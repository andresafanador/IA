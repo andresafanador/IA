{
  "nbformat": 4,
  "nbformat_minor": 0,
  "metadata": {
    "colab": {
      "provenance": []
    },
    "kernelspec": {
      "name": "python3",
      "display_name": "Python 3"
    },
    "language_info": {
      "name": "python"
    }
  },
  "cells": [
    {
      "cell_type": "markdown",
      "source": [
        "Importamos las funciones del py para el preproceso."
      ],
      "metadata": {
        "id": "nmGmNHpAfS4W"
      }
    },
    {
      "cell_type": "code",
      "execution_count": null,
      "metadata": {
        "colab": {
          "base_uri": "https://localhost:8080/"
        },
        "id": "4J5-fdyHfLFs",
        "outputId": "34fc579f-01e2-4e14-90b8-6bb4c7fe6d10"
      },
      "outputs": [
        {
          "output_type": "stream",
          "name": "stdout",
          "text": [
            "Cloning into 'Functions'...\n",
            "remote: Enumerating objects: 23, done.\u001b[K\n",
            "remote: Counting objects: 100% (23/23), done.\u001b[K\n",
            "remote: Compressing objects: 100% (20/20), done.\u001b[K\n",
            "remote: Total 23 (delta 4), reused 0 (delta 0), pack-reused 0\u001b[K\n",
            "Unpacking objects: 100% (23/23), 7.34 KiB | 1.22 MiB/s, done.\n"
          ]
        }
      ],
      "source": [
        "! git clone https://github.com/andresafanador/Functions.git\n",
        "from Functions.feature_extraction1 import data"
      ]
    },
    {
      "cell_type": "markdown",
      "source": [
        "Importamos las galerias."
      ],
      "metadata": {
        "id": "Ktj7LtpbfhX0"
      }
    },
    {
      "cell_type": "code",
      "source": [
        "import numpy as np\n",
        "import matplotlib.pyplot as plt\n",
        "import pandas as pd\n",
        "from sklearn.svm import SVC\n",
        "from sklearn.metrics import silhouette_samples, silhouette_score\n",
        "from sklearn.metrics import median_absolute_error, r2_score, mean_squared_error"
      ],
      "metadata": {
        "id": "Sh7PMKzjf7ou"
      },
      "execution_count": null,
      "outputs": []
    },
    {
      "cell_type": "markdown",
      "source": [
        "Leemos la base de datos."
      ],
      "metadata": {
        "id": "K-c5-BPogJKh"
      }
    },
    {
      "cell_type": "code",
      "source": [
        "!wget  https://github.com/andresafanador/IA/blob/85e039f1ec4e12faf32a3c0ed20e09b5c1ebccd5/Data%20Base/Normal1.zip?raw=true\n",
        "!wget https://github.com/andresafanador/IA/blob/85e039f1ec4e12faf32a3c0ed20e09b5c1ebccd5/Data%20Base/sag2.zip?raw=true\n",
        "\n",
        "!wget https://github.com/andresafanador/IA/blob/c3070bdb5a11d6589adea01d3c2b4147e8f40cc1/Train/Normaltrain.zip?raw=true\n",
        "!wget https://github.com/andresafanador/IA/blob/c3070bdb5a11d6589adea01d3c2b4147e8f40cc1/Train/sagtrain.zip?raw=true\n",
        "\n",
        "! unzip /content/Normaltrain.zip?raw=true\n",
        "Ntrain=pd.read_csv(\"Normaltrain.csv\")\n",
        "\n",
        "! unzip /content/sagtrain.zip?raw=true\n",
        "Strain=pd.read_csv(\"sagtrain.csv\")\n",
        "\n",
        "! unzip /content/Normal1.zip?raw=true\n",
        "Ntest=pd.read_csv(\"Normal1.csv\")\n",
        "\n",
        "! unzip /content/sag2.zip?raw=true\n",
        "Stest=pd.read_csv(\"sag2.csv\")"
      ],
      "metadata": {
        "colab": {
          "base_uri": "https://localhost:8080/"
        },
        "id": "nWNYyWhigKfh",
        "outputId": "a94c69a6-e6c5-495e-f149-a4f05c117380"
      },
      "execution_count": 13,
      "outputs": [
        {
          "output_type": "stream",
          "name": "stdout",
          "text": [
            "--2023-05-27 19:42:16--  https://github.com/andresafanador/IA/blob/85e039f1ec4e12faf32a3c0ed20e09b5c1ebccd5/Data%20Base/Normal1.zip?raw=true\n",
            "Resolving github.com (github.com)... 140.82.121.3\n",
            "Connecting to github.com (github.com)|140.82.121.3|:443... connected.\n",
            "HTTP request sent, awaiting response... 302 Found\n",
            "Location: https://github.com/andresafanador/IA/raw/85e039f1ec4e12faf32a3c0ed20e09b5c1ebccd5/Data%20Base/Normal1.zip [following]\n",
            "--2023-05-27 19:42:16--  https://github.com/andresafanador/IA/raw/85e039f1ec4e12faf32a3c0ed20e09b5c1ebccd5/Data%20Base/Normal1.zip\n",
            "Reusing existing connection to github.com:443.\n",
            "HTTP request sent, awaiting response... 302 Found\n",
            "Location: https://raw.githubusercontent.com/andresafanador/IA/85e039f1ec4e12faf32a3c0ed20e09b5c1ebccd5/Data%20Base/Normal1.zip [following]\n",
            "--2023-05-27 19:42:16--  https://raw.githubusercontent.com/andresafanador/IA/85e039f1ec4e12faf32a3c0ed20e09b5c1ebccd5/Data%20Base/Normal1.zip\n",
            "Resolving raw.githubusercontent.com (raw.githubusercontent.com)... 185.199.108.133, 185.199.111.133, 185.199.109.133, ...\n",
            "Connecting to raw.githubusercontent.com (raw.githubusercontent.com)|185.199.108.133|:443... connected.\n",
            "HTTP request sent, awaiting response... 200 OK\n",
            "Length: 584857 (571K) [application/zip]\n",
            "Saving to: ‘Normal1.zip?raw=true.1’\n",
            "\n",
            "Normal1.zip?raw=tru 100%[===================>] 571.15K  --.-KB/s    in 0.02s   \n",
            "\n",
            "2023-05-27 19:42:16 (32.4 MB/s) - ‘Normal1.zip?raw=true.1’ saved [584857/584857]\n",
            "\n",
            "--2023-05-27 19:42:16--  https://github.com/andresafanador/IA/blob/85e039f1ec4e12faf32a3c0ed20e09b5c1ebccd5/Data%20Base/sag2.zip?raw=true\n",
            "Resolving github.com (github.com)... 140.82.121.4\n",
            "Connecting to github.com (github.com)|140.82.121.4|:443... connected.\n",
            "HTTP request sent, awaiting response... 302 Found\n",
            "Location: https://github.com/andresafanador/IA/raw/85e039f1ec4e12faf32a3c0ed20e09b5c1ebccd5/Data%20Base/sag2.zip [following]\n",
            "--2023-05-27 19:42:17--  https://github.com/andresafanador/IA/raw/85e039f1ec4e12faf32a3c0ed20e09b5c1ebccd5/Data%20Base/sag2.zip\n",
            "Reusing existing connection to github.com:443.\n",
            "HTTP request sent, awaiting response... 302 Found\n",
            "Location: https://raw.githubusercontent.com/andresafanador/IA/85e039f1ec4e12faf32a3c0ed20e09b5c1ebccd5/Data%20Base/sag2.zip [following]\n",
            "--2023-05-27 19:42:17--  https://raw.githubusercontent.com/andresafanador/IA/85e039f1ec4e12faf32a3c0ed20e09b5c1ebccd5/Data%20Base/sag2.zip\n",
            "Resolving raw.githubusercontent.com (raw.githubusercontent.com)... 185.199.108.133, 185.199.109.133, 185.199.110.133, ...\n",
            "Connecting to raw.githubusercontent.com (raw.githubusercontent.com)|185.199.108.133|:443... connected.\n",
            "HTTP request sent, awaiting response... 200 OK\n",
            "Length: 17170993 (16M) [application/zip]\n",
            "Saving to: ‘sag2.zip?raw=true.1’\n",
            "\n",
            "sag2.zip?raw=true.1 100%[===================>]  16.38M  --.-KB/s    in 0.06s   \n",
            "\n",
            "2023-05-27 19:42:18 (265 MB/s) - ‘sag2.zip?raw=true.1’ saved [17170993/17170993]\n",
            "\n",
            "--2023-05-27 19:42:18--  https://github.com/andresafanador/IA/blob/c3070bdb5a11d6589adea01d3c2b4147e8f40cc1/Train/Normaltrain.zip?raw=true\n",
            "Resolving github.com (github.com)... 140.82.121.3\n",
            "Connecting to github.com (github.com)|140.82.121.3|:443... connected.\n",
            "HTTP request sent, awaiting response... 302 Found\n",
            "Location: https://github.com/andresafanador/IA/raw/c3070bdb5a11d6589adea01d3c2b4147e8f40cc1/Train/Normaltrain.zip [following]\n",
            "--2023-05-27 19:42:19--  https://github.com/andresafanador/IA/raw/c3070bdb5a11d6589adea01d3c2b4147e8f40cc1/Train/Normaltrain.zip\n",
            "Reusing existing connection to github.com:443.\n",
            "HTTP request sent, awaiting response... 302 Found\n",
            "Location: https://raw.githubusercontent.com/andresafanador/IA/c3070bdb5a11d6589adea01d3c2b4147e8f40cc1/Train/Normaltrain.zip [following]\n",
            "--2023-05-27 19:42:19--  https://raw.githubusercontent.com/andresafanador/IA/c3070bdb5a11d6589adea01d3c2b4147e8f40cc1/Train/Normaltrain.zip\n",
            "Resolving raw.githubusercontent.com (raw.githubusercontent.com)... 185.199.108.133, 185.199.109.133, 185.199.110.133, ...\n",
            "Connecting to raw.githubusercontent.com (raw.githubusercontent.com)|185.199.108.133|:443... connected.\n",
            "HTTP request sent, awaiting response... 200 OK\n",
            "Length: 155317 (152K) [application/zip]\n",
            "Saving to: ‘Normaltrain.zip?raw=true.1’\n",
            "\n",
            "Normaltrain.zip?raw 100%[===================>] 151.68K  --.-KB/s    in 0.009s  \n",
            "\n",
            "2023-05-27 19:42:19 (17.3 MB/s) - ‘Normaltrain.zip?raw=true.1’ saved [155317/155317]\n",
            "\n",
            "--2023-05-27 19:42:19--  https://github.com/andresafanador/IA/blob/c3070bdb5a11d6589adea01d3c2b4147e8f40cc1/Train/sagtrain.zip?raw=true\n",
            "Resolving github.com (github.com)... 140.82.121.3\n",
            "Connecting to github.com (github.com)|140.82.121.3|:443... connected.\n",
            "HTTP request sent, awaiting response... 302 Found\n",
            "Location: https://github.com/andresafanador/IA/raw/c3070bdb5a11d6589adea01d3c2b4147e8f40cc1/Train/sagtrain.zip [following]\n",
            "--2023-05-27 19:42:19--  https://github.com/andresafanador/IA/raw/c3070bdb5a11d6589adea01d3c2b4147e8f40cc1/Train/sagtrain.zip\n",
            "Reusing existing connection to github.com:443.\n",
            "HTTP request sent, awaiting response... 302 Found\n",
            "Location: https://raw.githubusercontent.com/andresafanador/IA/c3070bdb5a11d6589adea01d3c2b4147e8f40cc1/Train/sagtrain.zip [following]\n",
            "--2023-05-27 19:42:19--  https://raw.githubusercontent.com/andresafanador/IA/c3070bdb5a11d6589adea01d3c2b4147e8f40cc1/Train/sagtrain.zip\n",
            "Resolving raw.githubusercontent.com (raw.githubusercontent.com)... 185.199.108.133, 185.199.111.133, 185.199.109.133, ...\n",
            "Connecting to raw.githubusercontent.com (raw.githubusercontent.com)|185.199.108.133|:443... connected.\n",
            "HTTP request sent, awaiting response... 200 OK\n",
            "Length: 8384621 (8.0M) [application/zip]\n",
            "Saving to: ‘sagtrain.zip?raw=true.1’\n",
            "\n",
            "sagtrain.zip?raw=tr 100%[===================>]   8.00M  --.-KB/s    in 0.05s   \n",
            "\n",
            "2023-05-27 19:42:20 (158 MB/s) - ‘sagtrain.zip?raw=true.1’ saved [8384621/8384621]\n",
            "\n",
            "Archive:  /content/Normaltrain.zip?raw=true\n",
            "replace Normaltrain.csv? [y]es, [n]o, [A]ll, [N]one, [r]ename: y\n",
            "  inflating: Normaltrain.csv         \n",
            "Archive:  /content/sagtrain.zip?raw=true\n",
            "replace sagtrain.csv? [y]es, [n]o, [A]ll, [N]one, [r]ename: y\n",
            "  inflating: sagtrain.csv            \n",
            "Archive:  /content/Normal1.zip?raw=true\n",
            "replace Normal1.csv? [y]es, [n]o, [A]ll, [N]one, [r]ename: y\n",
            "  inflating: Normal1.csv             \n",
            "Archive:  /content/sag2.zip?raw=true\n",
            "replace sag2.csv? [y]es, [n]o, [A]ll, [N]one, [r]ename: y\n",
            "  inflating: sag2.csv                \n"
          ]
        }
      ]
    },
    {
      "cell_type": "markdown",
      "source": [
        "Le hacemos feature extraction a los datos."
      ],
      "metadata": {
        "id": "PTdLtL_EghV0"
      }
    },
    {
      "cell_type": "code",
      "source": [
        "xtrain,ytrain=data(Strain,Ntrain)\n",
        "xtest,ytest=data(Stest,Ntest)"
      ],
      "metadata": {
        "id": "y1y8SofZgopA"
      },
      "execution_count": 14,
      "outputs": []
    },
    {
      "cell_type": "markdown",
      "source": [
        "Probamos el desempeño de SVM."
      ],
      "metadata": {
        "id": "3zYtGzAVhDze"
      }
    },
    {
      "cell_type": "code",
      "source": [
        "sv = SVC(gamma=1)\n",
        "sv.fit(xtrain,ytrain)\n",
        "print (\"El desempeño con los datos de entrenamiento fue\",sv.score(xtrain,ytrain))\n",
        "print (\"El desempeño con los datos de testeo fue\",sv.score(xtest,ytest))"
      ],
      "metadata": {
        "colab": {
          "base_uri": "https://localhost:8080/"
        },
        "id": "_6Sa-ctVhJFU",
        "outputId": "f227ea14-ce70-4613-e2f9-bbd9a8bd5c0c"
      },
      "execution_count": 15,
      "outputs": [
        {
          "output_type": "stream",
          "name": "stdout",
          "text": [
            "El desempeño con los datos de entrenamiento fue 0.9796\n",
            "El desempeño con los datos de testeo fue 0.97665\n"
          ]
        }
      ]
    },
    {
      "cell_type": "markdown",
      "source": [
        "Probamos ahora el desempeño con r2_score ,median_absolute_error y mean_squared_error."
      ],
      "metadata": {
        "id": "YMDMqm6jhNm5"
      }
    },
    {
      "cell_type": "code",
      "source": [
        "print(\"Para SVM\")\n",
        "print(\"El coeficiente de determinacion:\",r2_score(ytest,sv.predict(xtest)))\n",
        "print(\"El error absoluto medio:\",median_absolute_error(ytest,sv.predict(xtest)))\n",
        "print(\"El  promedio del error cuadratico:\",mean_squared_error(ytest,sv.predict(xtest)))"
      ],
      "metadata": {
        "colab": {
          "base_uri": "https://localhost:8080/"
        },
        "id": "rhb7-RPYhOD3",
        "outputId": "d94f6b07-7e0c-4077-9743-2db85e3c88e8"
      },
      "execution_count": 16,
      "outputs": [
        {
          "output_type": "stream",
          "name": "stdout",
          "text": [
            "Para SVM\n",
            "El coeficiente de determinacion: 0.9066\n",
            "El error absoluto medio: 0.0\n",
            "El  promedio del error cuadratico: 0.02335\n"
          ]
        }
      ]
    },
    {
      "cell_type": "code",
      "source": [
        "print(np.shape(Ntrain),np.shape(Strain),np.shape(Ntest),np.shape(Stest))\n",
        "print(len(xtrain),len(ytrain),len(xtest),len(ytest))"
      ],
      "metadata": {
        "colab": {
          "base_uri": "https://localhost:8080/"
        },
        "id": "lqziFcxEnyER",
        "outputId": "e7de6a43-61f3-4193-eeed-ee4555a0c796"
      },
      "execution_count": 17,
      "outputs": [
        {
          "output_type": "stream",
          "name": "stdout",
          "text": [
            "(533, 5001) (533, 5001) (533, 20001) (533, 10001)\n",
            "10000 10000 20000 20000\n"
          ]
        }
      ]
    }
  ]
}