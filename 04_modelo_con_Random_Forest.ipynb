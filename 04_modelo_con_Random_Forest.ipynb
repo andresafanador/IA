{
  "nbformat": 4,
  "nbformat_minor": 0,
  "metadata": {
    "colab": {
      "provenance": []
    },
    "kernelspec": {
      "name": "python3",
      "display_name": "Python 3"
    },
    "language_info": {
      "name": "python"
    }
  },
  "cells": [
    {
      "cell_type": "markdown",
      "source": [
        "Importamos la funcion de feature extraction"
      ],
      "metadata": {
        "id": "bcdg8PjvTtn9"
      }
    },
    {
      "cell_type": "code",
      "execution_count": 1,
      "metadata": {
        "colab": {
          "base_uri": "https://localhost:8080/"
        },
        "id": "pKr0AtA3TeYw",
        "outputId": "c2812635-bb2e-4883-8708-90269e717810"
      },
      "outputs": [
        {
          "output_type": "stream",
          "name": "stdout",
          "text": [
            "Cloning into 'Functions'...\n",
            "remote: Enumerating objects: 23, done.\u001b[K\n",
            "remote: Counting objects: 100% (23/23), done.\u001b[K\n",
            "remote: Compressing objects: 100% (20/20), done.\u001b[K\n",
            "remote: Total 23 (delta 4), reused 0 (delta 0), pack-reused 0\u001b[K\n",
            "Unpacking objects: 100% (23/23), 7.34 KiB | 1.05 MiB/s, done.\n"
          ]
        }
      ],
      "source": [
        "! git clone https://github.com/andresafanador/Functions.git\n",
        "from Functions.feature_extraction1 import data"
      ]
    },
    {
      "cell_type": "markdown",
      "source": [
        "Importamos las demas funciones."
      ],
      "metadata": {
        "id": "DnC23u_0Tq-2"
      }
    },
    {
      "cell_type": "code",
      "source": [
        "from sklearn.ensemble import RandomForestRegressor\n",
        "from sklearn.model_selection import train_test_split\n",
        "from sklearn.metrics import median_absolute_error, r2_score, mean_squared_error\n",
        "\n",
        "import numpy as np\n",
        "import matplotlib.pyplot as plt\n",
        "import pandas as pd\n",
        "from numpy import sqrt, mean, absolute, real, conj\n",
        "import math as m\n",
        "from sklearn.ensemble import RandomForestRegressor\n",
        "from sklearn.model_selection import train_test_split\n",
        "from sklearn.metrics import median_absolute_error, r2_score, mean_squared_error\n",
        "from sklearn.ensemble import RandomForestClassifier"
      ],
      "metadata": {
        "id": "ivGCEH0uUuwI"
      },
      "execution_count": 2,
      "outputs": []
    },
    {
      "cell_type": "markdown",
      "source": [
        "Leemos la base de datos."
      ],
      "metadata": {
        "id": "5iqQ5SBKUxFc"
      }
    },
    {
      "cell_type": "code",
      "source": [
        "\n",
        "\n",
        "!wget  https://github.com/SebastianVillega5/ProyectoIA/blob/346f5331fe3033a573a605d69c06b5b2c169330d/Machine%20learning%20PQ/Data%20Base/Normal1.zip?raw=true\n",
        "!wget https://github.com/SebastianVillega5/ProyectoIA/blob/main/Machine%20learning%20PQ/Data%20Base/sag2.zip?raw=true\n",
        "!wget https://github.com/andresafanador/IA/blob/c3070bdb5a11d6589adea01d3c2b4147e8f40cc1/Train/Normaltrain.zip?raw=true\n",
        "!wget https://github.com/andresafanador/IA/blob/c3070bdb5a11d6589adea01d3c2b4147e8f40cc1/Train/sagtrain.zip?raw=true\n",
        "\n",
        "! unzip /content/Normaltrain.zip?raw=true\n",
        "Ntrain=pd.read_csv(\"Normaltrain.csv\")\n",
        "\n",
        "! unzip /content/sagtrain.zip?raw=true\n",
        "Strain=pd.read_csv(\"sagtrain.csv\")\n",
        "\n",
        "! unzip /content/Normal1.zip?raw=true\n",
        "Ntest=pd.read_csv(\"Normal1.csv\")\n",
        "\n",
        "! unzip /content/sag2.zip?raw=true\n",
        "Stest=pd.read_csv(\"sag2.csv\")"
      ],
      "metadata": {
        "colab": {
          "base_uri": "https://localhost:8080/"
        },
        "id": "vQPvxcULTx1B",
        "outputId": "659c40dd-55dc-4b04-f986-b32969c13950"
      },
      "execution_count": 4,
      "outputs": [
        {
          "output_type": "stream",
          "name": "stdout",
          "text": [
            "--2023-05-22 23:21:03--  https://github.com/SebastianVillega5/ProyectoIA/blob/346f5331fe3033a573a605d69c06b5b2c169330d/Machine%20learning%20PQ/Data%20Base/Normal1.zip?raw=true\n",
            "Resolving github.com (github.com)... 140.82.112.3\n",
            "Connecting to github.com (github.com)|140.82.112.3|:443... connected.\n",
            "HTTP request sent, awaiting response... 302 Found\n",
            "Location: https://github.com/SebastianVillega5/ProyectoIA/raw/346f5331fe3033a573a605d69c06b5b2c169330d/Machine%20learning%20PQ/Data%20Base/Normal1.zip [following]\n",
            "--2023-05-22 23:21:04--  https://github.com/SebastianVillega5/ProyectoIA/raw/346f5331fe3033a573a605d69c06b5b2c169330d/Machine%20learning%20PQ/Data%20Base/Normal1.zip\n",
            "Reusing existing connection to github.com:443.\n",
            "HTTP request sent, awaiting response... 302 Found\n",
            "Location: https://raw.githubusercontent.com/SebastianVillega5/ProyectoIA/346f5331fe3033a573a605d69c06b5b2c169330d/Machine%20learning%20PQ/Data%20Base/Normal1.zip [following]\n",
            "--2023-05-22 23:21:04--  https://raw.githubusercontent.com/SebastianVillega5/ProyectoIA/346f5331fe3033a573a605d69c06b5b2c169330d/Machine%20learning%20PQ/Data%20Base/Normal1.zip\n",
            "Resolving raw.githubusercontent.com (raw.githubusercontent.com)... 185.199.110.133, 185.199.109.133, 185.199.111.133, ...\n",
            "Connecting to raw.githubusercontent.com (raw.githubusercontent.com)|185.199.110.133|:443... connected.\n",
            "HTTP request sent, awaiting response... 200 OK\n",
            "Length: 584857 (571K) [application/zip]\n",
            "Saving to: ‘Normal1.zip?raw=true’\n",
            "\n",
            "Normal1.zip?raw=tru 100%[===================>] 571.15K  --.-KB/s    in 0.03s   \n",
            "\n",
            "2023-05-22 23:21:04 (19.0 MB/s) - ‘Normal1.zip?raw=true’ saved [584857/584857]\n",
            "\n",
            "--2023-05-22 23:21:04--  https://github.com/SebastianVillega5/ProyectoIA/blob/main/Machine%20learning%20PQ/Data%20Base/sag2.zip?raw=true\n",
            "Resolving github.com (github.com)... 192.30.255.112\n",
            "Connecting to github.com (github.com)|192.30.255.112|:443... connected.\n",
            "HTTP request sent, awaiting response... 302 Found\n",
            "Location: https://github.com/SebastianVillega5/ProyectoIA/raw/main/Machine%20learning%20PQ/Data%20Base/sag2.zip [following]\n",
            "--2023-05-22 23:21:04--  https://github.com/SebastianVillega5/ProyectoIA/raw/main/Machine%20learning%20PQ/Data%20Base/sag2.zip\n",
            "Reusing existing connection to github.com:443.\n",
            "HTTP request sent, awaiting response... 302 Found\n",
            "Location: https://raw.githubusercontent.com/SebastianVillega5/ProyectoIA/main/Machine%20learning%20PQ/Data%20Base/sag2.zip [following]\n",
            "--2023-05-22 23:21:04--  https://raw.githubusercontent.com/SebastianVillega5/ProyectoIA/main/Machine%20learning%20PQ/Data%20Base/sag2.zip\n",
            "Resolving raw.githubusercontent.com (raw.githubusercontent.com)... 185.199.111.133, 185.199.110.133, 185.199.109.133, ...\n",
            "Connecting to raw.githubusercontent.com (raw.githubusercontent.com)|185.199.111.133|:443... connected.\n",
            "HTTP request sent, awaiting response... 200 OK\n",
            "Length: 17170993 (16M) [application/zip]\n",
            "Saving to: ‘sag2.zip?raw=true’\n",
            "\n",
            "sag2.zip?raw=true   100%[===================>]  16.38M  92.3MB/s    in 0.2s    \n",
            "\n",
            "2023-05-22 23:21:05 (92.3 MB/s) - ‘sag2.zip?raw=true’ saved [17170993/17170993]\n",
            "\n",
            "--2023-05-22 23:21:06--  https://github.com/andresafanador/IA/blob/c3070bdb5a11d6589adea01d3c2b4147e8f40cc1/Train/Normaltrain.zip?raw=true\n",
            "Resolving github.com (github.com)... 140.82.112.3\n",
            "Connecting to github.com (github.com)|140.82.112.3|:443... connected.\n",
            "HTTP request sent, awaiting response... 302 Found\n",
            "Location: https://github.com/andresafanador/IA/raw/c3070bdb5a11d6589adea01d3c2b4147e8f40cc1/Train/Normaltrain.zip [following]\n",
            "--2023-05-22 23:21:06--  https://github.com/andresafanador/IA/raw/c3070bdb5a11d6589adea01d3c2b4147e8f40cc1/Train/Normaltrain.zip\n",
            "Reusing existing connection to github.com:443.\n",
            "HTTP request sent, awaiting response... 302 Found\n",
            "Location: https://raw.githubusercontent.com/andresafanador/IA/c3070bdb5a11d6589adea01d3c2b4147e8f40cc1/Train/Normaltrain.zip [following]\n",
            "--2023-05-22 23:21:06--  https://raw.githubusercontent.com/andresafanador/IA/c3070bdb5a11d6589adea01d3c2b4147e8f40cc1/Train/Normaltrain.zip\n",
            "Resolving raw.githubusercontent.com (raw.githubusercontent.com)... 185.199.109.133, 185.199.111.133, 185.199.110.133, ...\n",
            "Connecting to raw.githubusercontent.com (raw.githubusercontent.com)|185.199.109.133|:443... connected.\n",
            "HTTP request sent, awaiting response... 200 OK\n",
            "Length: 155317 (152K) [application/zip]\n",
            "Saving to: ‘Normaltrain.zip?raw=true’\n",
            "\n",
            "Normaltrain.zip?raw 100%[===================>] 151.68K  --.-KB/s    in 0.02s   \n",
            "\n",
            "2023-05-22 23:21:06 (8.60 MB/s) - ‘Normaltrain.zip?raw=true’ saved [155317/155317]\n",
            "\n",
            "--2023-05-22 23:21:06--  https://github.com/andresafanador/IA/blob/c3070bdb5a11d6589adea01d3c2b4147e8f40cc1/Train/sagtrain.zip?raw=true\n",
            "Resolving github.com (github.com)... 140.82.113.3\n",
            "Connecting to github.com (github.com)|140.82.113.3|:443... connected.\n",
            "HTTP request sent, awaiting response... 302 Found\n",
            "Location: https://github.com/andresafanador/IA/raw/c3070bdb5a11d6589adea01d3c2b4147e8f40cc1/Train/sagtrain.zip [following]\n",
            "--2023-05-22 23:21:06--  https://github.com/andresafanador/IA/raw/c3070bdb5a11d6589adea01d3c2b4147e8f40cc1/Train/sagtrain.zip\n",
            "Reusing existing connection to github.com:443.\n",
            "HTTP request sent, awaiting response... 302 Found\n",
            "Location: https://raw.githubusercontent.com/andresafanador/IA/c3070bdb5a11d6589adea01d3c2b4147e8f40cc1/Train/sagtrain.zip [following]\n",
            "--2023-05-22 23:21:07--  https://raw.githubusercontent.com/andresafanador/IA/c3070bdb5a11d6589adea01d3c2b4147e8f40cc1/Train/sagtrain.zip\n",
            "Resolving raw.githubusercontent.com (raw.githubusercontent.com)... 185.199.111.133, 185.199.110.133, 185.199.109.133, ...\n",
            "Connecting to raw.githubusercontent.com (raw.githubusercontent.com)|185.199.111.133|:443... connected.\n",
            "HTTP request sent, awaiting response... 200 OK\n",
            "Length: 8384621 (8.0M) [application/zip]\n",
            "Saving to: ‘sagtrain.zip?raw=true’\n",
            "\n",
            "sagtrain.zip?raw=tr 100%[===================>]   8.00M  --.-KB/s    in 0.1s    \n",
            "\n",
            "2023-05-22 23:21:07 (80.9 MB/s) - ‘sagtrain.zip?raw=true’ saved [8384621/8384621]\n",
            "\n",
            "Archive:  /content/Normaltrain.zip?raw=true\n",
            "  inflating: Normaltrain.csv         \n",
            "Archive:  /content/sagtrain.zip?raw=true\n",
            "  inflating: sagtrain.csv            \n",
            "Archive:  /content/Normal1.zip?raw=true\n",
            "  inflating: Normal1.csv             \n",
            "Archive:  /content/sag2.zip?raw=true\n",
            "  inflating: sag2.csv                \n"
          ]
        }
      ]
    },
    {
      "cell_type": "markdown",
      "source": [
        "Extraemos los datos de la base de datos y medimos la efectividad del random forest."
      ],
      "metadata": {
        "id": "1udKLqw2T910"
      }
    },
    {
      "cell_type": "code",
      "source": [
        "xtrain,ytrain=data(Strain,Ntrain)\n",
        "xtest,ytest=data(Stest,Ntest)\n",
        "\n",
        "rf = RandomForestClassifier(n_estimators=10, max_depth=10)\n",
        "rf.fit(xtrain,ytrain)\n",
        "print(\"Con Random Forest:\")\n",
        "print (\"El desempeño con los datos de entrenamiento fue\",rf.score(xtrain,ytrain))\n",
        "print (\"El desempeño con los datos de testeo fue\",rf.score(xtest,ytest))\n",
        "print(\"Para coeficiente de determinacion:\",r2_score(ytest,rf.predict(xtest)))\n",
        "print(\"Para el error absoluto medio:\",median_absolute_error(ytest,rf.predict(xtest)))\n",
        "print(\"Para el promedio del error cuadratico:\",mean_squared_error(ytest,rf.predict(xtest)))\n"
      ],
      "metadata": {
        "colab": {
          "base_uri": "https://localhost:8080/"
        },
        "id": "2VnRA9NjT9CE",
        "outputId": "6674a2b7-4425-437d-be87-24f2fd68d016"
      },
      "execution_count": 5,
      "outputs": [
        {
          "output_type": "stream",
          "name": "stdout",
          "text": [
            "Con Random Forest:\n",
            "El desempeño con los datos de entrenamiento fue 0.9989\n",
            "El desempeño con los datos de testeo fue 0.99875\n",
            "Para coeficiente de determinacion: 0.995\n",
            "Para el error absoluto medio: 0.0\n",
            "Para el promedio del error cuadratico: 0.00125\n"
          ]
        }
      ]
    }
  ]
}