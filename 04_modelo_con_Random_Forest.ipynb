{
  "nbformat": 4,
  "nbformat_minor": 0,
  "metadata": {
    "colab": {
      "provenance": []
    },
    "kernelspec": {
      "name": "python3",
      "display_name": "Python 3"
    },
    "language_info": {
      "name": "python"
    }
  },
  "cells": [
    {
      "cell_type": "markdown",
      "source": [
        "Importamos la funcion de feature extraction"
      ],
      "metadata": {
        "id": "bcdg8PjvTtn9"
      }
    },
    {
      "cell_type": "code",
      "execution_count": 1,
      "metadata": {
        "colab": {
          "base_uri": "https://localhost:8080/"
        },
        "id": "pKr0AtA3TeYw",
        "outputId": "fdb7dac0-a5a2-42b2-a271-abe3819cfb08"
      },
      "outputs": [
        {
          "output_type": "stream",
          "name": "stdout",
          "text": [
            "Cloning into 'Functions'...\n",
            "remote: Enumerating objects: 23, done.\u001b[K\n",
            "remote: Counting objects: 100% (23/23), done.\u001b[K\n",
            "remote: Compressing objects: 100% (20/20), done.\u001b[K\n",
            "remote: Total 23 (delta 4), reused 0 (delta 0), pack-reused 0\u001b[K\n",
            "Unpacking objects: 100% (23/23), 7.34 KiB | 940.00 KiB/s, done.\n"
          ]
        }
      ],
      "source": [
        "! git clone https://github.com/andresafanador/Functions.git\n",
        "from Functions.feature_extraction1 import data"
      ]
    },
    {
      "cell_type": "markdown",
      "source": [
        "Importamos las demas funciones."
      ],
      "metadata": {
        "id": "DnC23u_0Tq-2"
      }
    },
    {
      "cell_type": "code",
      "source": [
        "from sklearn.ensemble import RandomForestRegressor\n",
        "from sklearn.model_selection import train_test_split\n",
        "from sklearn.metrics import median_absolute_error, r2_score, mean_squared_error\n",
        "\n",
        "import numpy as np\n",
        "import matplotlib.pyplot as plt\n",
        "import pandas as pd\n",
        "from numpy import sqrt, mean, absolute, real, conj\n",
        "import math as m\n",
        "from sklearn.ensemble import RandomForestRegressor\n",
        "from sklearn.model_selection import train_test_split\n",
        "from sklearn.metrics import median_absolute_error, r2_score, mean_squared_error\n",
        "from sklearn.ensemble import RandomForestClassifier"
      ],
      "metadata": {
        "id": "ivGCEH0uUuwI"
      },
      "execution_count": 2,
      "outputs": []
    },
    {
      "cell_type": "markdown",
      "source": [
        "Leemos la base de datos."
      ],
      "metadata": {
        "id": "5iqQ5SBKUxFc"
      }
    },
    {
      "cell_type": "code",
      "source": [
        "\n",
        "!wget  https://github.com/andresafanador/IA/blob/85e039f1ec4e12faf32a3c0ed20e09b5c1ebccd5/Data%20Base/Normal1.zip?raw=true\n",
        "!wget https://github.com/andresafanador/IA/blob/85e039f1ec4e12faf32a3c0ed20e09b5c1ebccd5/Data%20Base/sag2.zip?raw=true\n",
        "!wget https://github.com/andresafanador/IA/blob/c3070bdb5a11d6589adea01d3c2b4147e8f40cc1/Train/Normaltrain.zip?raw=true\n",
        "!wget https://github.com/andresafanador/IA/blob/c3070bdb5a11d6589adea01d3c2b4147e8f40cc1/Train/sagtrain.zip?raw=true\n",
        "\n",
        "! unzip /content/Normaltrain.zip?raw=true\n",
        "Ntrain=pd.read_csv(\"Normaltrain.csv\")\n",
        "\n",
        "! unzip /content/sagtrain.zip?raw=true\n",
        "Strain=pd.read_csv(\"sagtrain.csv\")\n",
        "\n",
        "! unzip /content/Normal1.zip?raw=true\n",
        "Ntest=pd.read_csv(\"Normal1.csv\")\n",
        "\n",
        "! unzip /content/sag2.zip?raw=true\n",
        "Stest=pd.read_csv(\"sag2.csv\")"
      ],
      "metadata": {
        "colab": {
          "base_uri": "https://localhost:8080/"
        },
        "id": "vQPvxcULTx1B",
        "outputId": "20e9348e-d7a4-4da9-9324-9a77f76f5004"
      },
      "execution_count": 3,
      "outputs": [
        {
          "output_type": "stream",
          "name": "stdout",
          "text": [
            "--2023-05-27 19:43:30--  https://github.com/andresafanador/IA/blob/85e039f1ec4e12faf32a3c0ed20e09b5c1ebccd5/Data%20Base/Normal1.zip?raw=true\n",
            "Resolving github.com (github.com)... 140.82.114.3\n",
            "Connecting to github.com (github.com)|140.82.114.3|:443... connected.\n",
            "HTTP request sent, awaiting response... 302 Found\n",
            "Location: https://github.com/andresafanador/IA/raw/85e039f1ec4e12faf32a3c0ed20e09b5c1ebccd5/Data%20Base/Normal1.zip [following]\n",
            "--2023-05-27 19:43:30--  https://github.com/andresafanador/IA/raw/85e039f1ec4e12faf32a3c0ed20e09b5c1ebccd5/Data%20Base/Normal1.zip\n",
            "Reusing existing connection to github.com:443.\n",
            "HTTP request sent, awaiting response... 302 Found\n",
            "Location: https://raw.githubusercontent.com/andresafanador/IA/85e039f1ec4e12faf32a3c0ed20e09b5c1ebccd5/Data%20Base/Normal1.zip [following]\n",
            "--2023-05-27 19:43:30--  https://raw.githubusercontent.com/andresafanador/IA/85e039f1ec4e12faf32a3c0ed20e09b5c1ebccd5/Data%20Base/Normal1.zip\n",
            "Resolving raw.githubusercontent.com (raw.githubusercontent.com)... 185.199.108.133, 185.199.109.133, 185.199.110.133, ...\n",
            "Connecting to raw.githubusercontent.com (raw.githubusercontent.com)|185.199.108.133|:443... connected.\n",
            "HTTP request sent, awaiting response... 200 OK\n",
            "Length: 584857 (571K) [application/zip]\n",
            "Saving to: ‘Normal1.zip?raw=true’\n",
            "\n",
            "Normal1.zip?raw=tru 100%[===================>] 571.15K  --.-KB/s    in 0.04s   \n",
            "\n",
            "2023-05-27 19:43:30 (13.3 MB/s) - ‘Normal1.zip?raw=true’ saved [584857/584857]\n",
            "\n",
            "--2023-05-27 19:43:30--  https://github.com/andresafanador/IA/blob/85e039f1ec4e12faf32a3c0ed20e09b5c1ebccd5/Data%20Base/sag2.zip?raw=true\n",
            "Resolving github.com (github.com)... 140.82.114.3\n",
            "Connecting to github.com (github.com)|140.82.114.3|:443... connected.\n",
            "HTTP request sent, awaiting response... 302 Found\n",
            "Location: https://github.com/andresafanador/IA/raw/85e039f1ec4e12faf32a3c0ed20e09b5c1ebccd5/Data%20Base/sag2.zip [following]\n",
            "--2023-05-27 19:43:31--  https://github.com/andresafanador/IA/raw/85e039f1ec4e12faf32a3c0ed20e09b5c1ebccd5/Data%20Base/sag2.zip\n",
            "Reusing existing connection to github.com:443.\n",
            "HTTP request sent, awaiting response... 302 Found\n",
            "Location: https://raw.githubusercontent.com/andresafanador/IA/85e039f1ec4e12faf32a3c0ed20e09b5c1ebccd5/Data%20Base/sag2.zip [following]\n",
            "--2023-05-27 19:43:31--  https://raw.githubusercontent.com/andresafanador/IA/85e039f1ec4e12faf32a3c0ed20e09b5c1ebccd5/Data%20Base/sag2.zip\n",
            "Resolving raw.githubusercontent.com (raw.githubusercontent.com)... 185.199.109.133, 185.199.111.133, 185.199.108.133, ...\n",
            "Connecting to raw.githubusercontent.com (raw.githubusercontent.com)|185.199.109.133|:443... connected.\n",
            "HTTP request sent, awaiting response... 200 OK\n",
            "Length: 17170993 (16M) [application/zip]\n",
            "Saving to: ‘sag2.zip?raw=true’\n",
            "\n",
            "sag2.zip?raw=true   100%[===================>]  16.38M  90.5MB/s    in 0.2s    \n",
            "\n",
            "2023-05-27 19:43:31 (90.5 MB/s) - ‘sag2.zip?raw=true’ saved [17170993/17170993]\n",
            "\n",
            "--2023-05-27 19:43:31--  https://github.com/andresafanador/IA/blob/c3070bdb5a11d6589adea01d3c2b4147e8f40cc1/Train/Normaltrain.zip?raw=true\n",
            "Resolving github.com (github.com)... 140.82.114.3\n",
            "Connecting to github.com (github.com)|140.82.114.3|:443... connected.\n",
            "HTTP request sent, awaiting response... 302 Found\n",
            "Location: https://github.com/andresafanador/IA/raw/c3070bdb5a11d6589adea01d3c2b4147e8f40cc1/Train/Normaltrain.zip [following]\n",
            "--2023-05-27 19:43:31--  https://github.com/andresafanador/IA/raw/c3070bdb5a11d6589adea01d3c2b4147e8f40cc1/Train/Normaltrain.zip\n",
            "Reusing existing connection to github.com:443.\n",
            "HTTP request sent, awaiting response... 302 Found\n",
            "Location: https://raw.githubusercontent.com/andresafanador/IA/c3070bdb5a11d6589adea01d3c2b4147e8f40cc1/Train/Normaltrain.zip [following]\n",
            "--2023-05-27 19:43:32--  https://raw.githubusercontent.com/andresafanador/IA/c3070bdb5a11d6589adea01d3c2b4147e8f40cc1/Train/Normaltrain.zip\n",
            "Resolving raw.githubusercontent.com (raw.githubusercontent.com)... 185.199.108.133, 185.199.109.133, 185.199.110.133, ...\n",
            "Connecting to raw.githubusercontent.com (raw.githubusercontent.com)|185.199.108.133|:443... connected.\n",
            "HTTP request sent, awaiting response... 200 OK\n",
            "Length: 155317 (152K) [application/zip]\n",
            "Saving to: ‘Normaltrain.zip?raw=true’\n",
            "\n",
            "Normaltrain.zip?raw 100%[===================>] 151.68K  --.-KB/s    in 0.02s   \n",
            "\n",
            "2023-05-27 19:43:32 (6.36 MB/s) - ‘Normaltrain.zip?raw=true’ saved [155317/155317]\n",
            "\n",
            "--2023-05-27 19:43:32--  https://github.com/andresafanador/IA/blob/c3070bdb5a11d6589adea01d3c2b4147e8f40cc1/Train/sagtrain.zip?raw=true\n",
            "Resolving github.com (github.com)... 140.82.114.3\n",
            "Connecting to github.com (github.com)|140.82.114.3|:443... connected.\n",
            "HTTP request sent, awaiting response... 302 Found\n",
            "Location: https://github.com/andresafanador/IA/raw/c3070bdb5a11d6589adea01d3c2b4147e8f40cc1/Train/sagtrain.zip [following]\n",
            "--2023-05-27 19:43:32--  https://github.com/andresafanador/IA/raw/c3070bdb5a11d6589adea01d3c2b4147e8f40cc1/Train/sagtrain.zip\n",
            "Reusing existing connection to github.com:443.\n",
            "HTTP request sent, awaiting response... 302 Found\n",
            "Location: https://raw.githubusercontent.com/andresafanador/IA/c3070bdb5a11d6589adea01d3c2b4147e8f40cc1/Train/sagtrain.zip [following]\n",
            "--2023-05-27 19:43:32--  https://raw.githubusercontent.com/andresafanador/IA/c3070bdb5a11d6589adea01d3c2b4147e8f40cc1/Train/sagtrain.zip\n",
            "Resolving raw.githubusercontent.com (raw.githubusercontent.com)... 185.199.108.133, 185.199.109.133, 185.199.110.133, ...\n",
            "Connecting to raw.githubusercontent.com (raw.githubusercontent.com)|185.199.108.133|:443... connected.\n",
            "HTTP request sent, awaiting response... 200 OK\n",
            "Length: 8384621 (8.0M) [application/zip]\n",
            "Saving to: ‘sagtrain.zip?raw=true’\n",
            "\n",
            "sagtrain.zip?raw=tr 100%[===================>]   8.00M  --.-KB/s    in 0.1s    \n",
            "\n",
            "2023-05-27 19:43:33 (70.2 MB/s) - ‘sagtrain.zip?raw=true’ saved [8384621/8384621]\n",
            "\n",
            "Archive:  /content/Normaltrain.zip?raw=true\n",
            "  inflating: Normaltrain.csv         \n",
            "Archive:  /content/sagtrain.zip?raw=true\n",
            "  inflating: sagtrain.csv            \n",
            "Archive:  /content/Normal1.zip?raw=true\n",
            "  inflating: Normal1.csv             \n",
            "Archive:  /content/sag2.zip?raw=true\n",
            "  inflating: sag2.csv                \n"
          ]
        }
      ]
    },
    {
      "cell_type": "markdown",
      "source": [
        "Extraemos los datos de la base de datos y medimos la efectividad del random forest."
      ],
      "metadata": {
        "id": "1udKLqw2T910"
      }
    },
    {
      "cell_type": "code",
      "source": [
        "xtrain,ytrain=data(Strain,Ntrain)\n",
        "xtest,ytest=data(Stest,Ntest)\n",
        "\n",
        "rf = RandomForestClassifier(n_estimators=10, max_depth=10)\n",
        "rf.fit(xtrain,ytrain)\n",
        "print(\"Con Random Forest:\")\n",
        "print (\"El desempeño con los datos de entrenamiento fue\",rf.score(xtrain,ytrain))\n",
        "print (\"El desempeño con los datos de testeo fue\",rf.score(xtest,ytest))\n",
        "print(\"Para coeficiente de determinacion:\",r2_score(ytest,rf.predict(xtest)))\n",
        "print(\"Para el error absoluto medio:\",median_absolute_error(ytest,rf.predict(xtest)))\n",
        "print(\"Para el promedio del error cuadratico:\",mean_squared_error(ytest,rf.predict(xtest)))\n"
      ],
      "metadata": {
        "id": "2VnRA9NjT9CE"
      },
      "execution_count": null,
      "outputs": []
    }
  ]
}