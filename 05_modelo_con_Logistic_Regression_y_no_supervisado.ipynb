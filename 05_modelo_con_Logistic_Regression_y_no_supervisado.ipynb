{
  "nbformat": 4,
  "nbformat_minor": 0,
  "metadata": {
    "colab": {
      "provenance": []
    },
    "kernelspec": {
      "name": "python3",
      "display_name": "Python 3"
    },
    "language_info": {
      "name": "python"
    }
  },
  "cells": [
    {
      "cell_type": "markdown",
      "source": [
        "Importamos las funciones de feature extraction"
      ],
      "metadata": {
        "id": "MDZENAVDcR6q"
      }
    },
    {
      "cell_type": "code",
      "source": [
        "! git clone https://github.com/andresafanador/Functions.git\n",
        "from Functions.feature_extraction1 import data"
      ],
      "metadata": {
        "colab": {
          "base_uri": "https://localhost:8080/"
        },
        "id": "sPxH5ahxcA_h",
        "outputId": "3fa4b30b-c3b0-44b7-c0f3-be8d905a8b45"
      },
      "execution_count": 1,
      "outputs": [
        {
          "output_type": "stream",
          "name": "stdout",
          "text": [
            "Cloning into 'Functions'...\n",
            "remote: Enumerating objects: 23, done.\u001b[K\n",
            "remote: Counting objects: 100% (23/23), done.\u001b[K\n",
            "remote: Compressing objects: 100% (20/20), done.\u001b[K\n",
            "remote: Total 23 (delta 4), reused 0 (delta 0), pack-reused 0\u001b[K\n",
            "Unpacking objects: 100% (23/23), 7.34 KiB | 1.47 MiB/s, done.\n"
          ]
        }
      ]
    },
    {
      "cell_type": "markdown",
      "source": [
        "Importamos las funciones."
      ],
      "metadata": {
        "id": "BcOg9OCDYnN0"
      }
    },
    {
      "cell_type": "code",
      "execution_count": 2,
      "metadata": {
        "id": "bxI5XOXKYNZH"
      },
      "outputs": [],
      "source": [
        "from sklearn.linear_model import LinearRegression\n",
        "from sklearn.linear_model import LogisticRegression\n",
        "from sklearn.metrics import median_absolute_error, r2_score, mean_squared_error\n",
        "from sklearn.cluster import KMeans, SpectralClustering, AgglomerativeClustering, DBSCAN\n",
        "from sklearn.metrics import silhouette_samples, silhouette_score\n",
        "\n",
        "import numpy as np\n",
        "import matplotlib.pyplot as plt\n",
        "import pandas as pd"
      ]
    },
    {
      "cell_type": "markdown",
      "source": [
        "Leemos la base de datos."
      ],
      "metadata": {
        "id": "IZpU751xYpqK"
      }
    },
    {
      "cell_type": "code",
      "execution_count": 3,
      "metadata": {
        "id": "YUaiFhLinAgC",
        "colab": {
          "base_uri": "https://localhost:8080/"
        },
        "outputId": "3dd33255-d4e8-4847-e499-8bc69f4f085a"
      },
      "outputs": [
        {
          "output_type": "stream",
          "name": "stdout",
          "text": [
            "--2023-05-27 19:43:48--  https://github.com/andresafanador/IA/blob/85e039f1ec4e12faf32a3c0ed20e09b5c1ebccd5/Data%20Base/Normal1.zip?raw=true\n",
            "Resolving github.com (github.com)... 140.82.121.4\n",
            "Connecting to github.com (github.com)|140.82.121.4|:443... connected.\n",
            "HTTP request sent, awaiting response... 302 Found\n",
            "Location: https://github.com/andresafanador/IA/raw/85e039f1ec4e12faf32a3c0ed20e09b5c1ebccd5/Data%20Base/Normal1.zip [following]\n",
            "--2023-05-27 19:43:49--  https://github.com/andresafanador/IA/raw/85e039f1ec4e12faf32a3c0ed20e09b5c1ebccd5/Data%20Base/Normal1.zip\n",
            "Reusing existing connection to github.com:443.\n",
            "HTTP request sent, awaiting response... 302 Found\n",
            "Location: https://raw.githubusercontent.com/andresafanador/IA/85e039f1ec4e12faf32a3c0ed20e09b5c1ebccd5/Data%20Base/Normal1.zip [following]\n",
            "--2023-05-27 19:43:49--  https://raw.githubusercontent.com/andresafanador/IA/85e039f1ec4e12faf32a3c0ed20e09b5c1ebccd5/Data%20Base/Normal1.zip\n",
            "Resolving raw.githubusercontent.com (raw.githubusercontent.com)... 185.199.108.133, 185.199.109.133, 185.199.110.133, ...\n",
            "Connecting to raw.githubusercontent.com (raw.githubusercontent.com)|185.199.108.133|:443... connected.\n",
            "HTTP request sent, awaiting response... 200 OK\n",
            "Length: 584857 (571K) [application/zip]\n",
            "Saving to: ‘Normal1.zip?raw=true’\n",
            "\n",
            "\rNormal1.zip?raw=tru   0%[                    ]       0  --.-KB/s               \rNormal1.zip?raw=tru 100%[===================>] 571.15K  --.-KB/s    in 0.02s   \n",
            "\n",
            "2023-05-27 19:43:49 (36.1 MB/s) - ‘Normal1.zip?raw=true’ saved [584857/584857]\n",
            "\n",
            "--2023-05-27 19:43:49--  https://github.com/andresafanador/IA/blob/85e039f1ec4e12faf32a3c0ed20e09b5c1ebccd5/Data%20Base/sag2.zip?raw=true\n",
            "Resolving github.com (github.com)... 140.82.121.4\n",
            "Connecting to github.com (github.com)|140.82.121.4|:443... connected.\n",
            "HTTP request sent, awaiting response... 302 Found\n",
            "Location: https://github.com/andresafanador/IA/raw/85e039f1ec4e12faf32a3c0ed20e09b5c1ebccd5/Data%20Base/sag2.zip [following]\n",
            "--2023-05-27 19:43:49--  https://github.com/andresafanador/IA/raw/85e039f1ec4e12faf32a3c0ed20e09b5c1ebccd5/Data%20Base/sag2.zip\n",
            "Reusing existing connection to github.com:443.\n",
            "HTTP request sent, awaiting response... 302 Found\n",
            "Location: https://raw.githubusercontent.com/andresafanador/IA/85e039f1ec4e12faf32a3c0ed20e09b5c1ebccd5/Data%20Base/sag2.zip [following]\n",
            "--2023-05-27 19:43:49--  https://raw.githubusercontent.com/andresafanador/IA/85e039f1ec4e12faf32a3c0ed20e09b5c1ebccd5/Data%20Base/sag2.zip\n",
            "Resolving raw.githubusercontent.com (raw.githubusercontent.com)... 185.199.108.133, 185.199.109.133, 185.199.110.133, ...\n",
            "Connecting to raw.githubusercontent.com (raw.githubusercontent.com)|185.199.108.133|:443... connected.\n",
            "HTTP request sent, awaiting response... 200 OK\n",
            "Length: 17170993 (16M) [application/zip]\n",
            "Saving to: ‘sag2.zip?raw=true’\n",
            "\n",
            "sag2.zip?raw=true   100%[===================>]  16.38M  --.-KB/s    in 0.07s   \n",
            "\n",
            "2023-05-27 19:43:49 (248 MB/s) - ‘sag2.zip?raw=true’ saved [17170993/17170993]\n",
            "\n",
            "--2023-05-27 19:43:49--  https://github.com/andresafanador/IA/blob/c3070bdb5a11d6589adea01d3c2b4147e8f40cc1/Train/Normaltrain.zip?raw=true\n",
            "Resolving github.com (github.com)... 140.82.121.3\n",
            "Connecting to github.com (github.com)|140.82.121.3|:443... connected.\n",
            "HTTP request sent, awaiting response... 302 Found\n",
            "Location: https://github.com/andresafanador/IA/raw/c3070bdb5a11d6589adea01d3c2b4147e8f40cc1/Train/Normaltrain.zip [following]\n",
            "--2023-05-27 19:43:50--  https://github.com/andresafanador/IA/raw/c3070bdb5a11d6589adea01d3c2b4147e8f40cc1/Train/Normaltrain.zip\n",
            "Reusing existing connection to github.com:443.\n",
            "HTTP request sent, awaiting response... 302 Found\n",
            "Location: https://raw.githubusercontent.com/andresafanador/IA/c3070bdb5a11d6589adea01d3c2b4147e8f40cc1/Train/Normaltrain.zip [following]\n",
            "--2023-05-27 19:43:50--  https://raw.githubusercontent.com/andresafanador/IA/c3070bdb5a11d6589adea01d3c2b4147e8f40cc1/Train/Normaltrain.zip\n",
            "Resolving raw.githubusercontent.com (raw.githubusercontent.com)... 185.199.108.133, 185.199.111.133, 185.199.109.133, ...\n",
            "Connecting to raw.githubusercontent.com (raw.githubusercontent.com)|185.199.108.133|:443... connected.\n",
            "HTTP request sent, awaiting response... 200 OK\n",
            "Length: 155317 (152K) [application/zip]\n",
            "Saving to: ‘Normaltrain.zip?raw=true’\n",
            "\n",
            "Normaltrain.zip?raw 100%[===================>] 151.68K  --.-KB/s    in 0.01s   \n",
            "\n",
            "2023-05-27 19:43:50 (11.8 MB/s) - ‘Normaltrain.zip?raw=true’ saved [155317/155317]\n",
            "\n",
            "--2023-05-27 19:43:50--  https://github.com/andresafanador/IA/blob/c3070bdb5a11d6589adea01d3c2b4147e8f40cc1/Train/sagtrain.zip?raw=true\n",
            "Resolving github.com (github.com)... 140.82.121.3\n",
            "Connecting to github.com (github.com)|140.82.121.3|:443... connected.\n",
            "HTTP request sent, awaiting response... 302 Found\n",
            "Location: https://github.com/andresafanador/IA/raw/c3070bdb5a11d6589adea01d3c2b4147e8f40cc1/Train/sagtrain.zip [following]\n",
            "--2023-05-27 19:43:50--  https://github.com/andresafanador/IA/raw/c3070bdb5a11d6589adea01d3c2b4147e8f40cc1/Train/sagtrain.zip\n",
            "Reusing existing connection to github.com:443.\n",
            "HTTP request sent, awaiting response... 302 Found\n",
            "Location: https://raw.githubusercontent.com/andresafanador/IA/c3070bdb5a11d6589adea01d3c2b4147e8f40cc1/Train/sagtrain.zip [following]\n",
            "--2023-05-27 19:43:50--  https://raw.githubusercontent.com/andresafanador/IA/c3070bdb5a11d6589adea01d3c2b4147e8f40cc1/Train/sagtrain.zip\n",
            "Resolving raw.githubusercontent.com (raw.githubusercontent.com)... 185.199.108.133, 185.199.109.133, 185.199.110.133, ...\n",
            "Connecting to raw.githubusercontent.com (raw.githubusercontent.com)|185.199.108.133|:443... connected.\n",
            "HTTP request sent, awaiting response... 200 OK\n",
            "Length: 8384621 (8.0M) [application/zip]\n",
            "Saving to: ‘sagtrain.zip?raw=true’\n",
            "\n",
            "sagtrain.zip?raw=tr 100%[===================>]   8.00M  --.-KB/s    in 0.09s   \n",
            "\n",
            "2023-05-27 19:43:50 (93.5 MB/s) - ‘sagtrain.zip?raw=true’ saved [8384621/8384621]\n",
            "\n",
            "Archive:  /content/Normaltrain.zip?raw=true\n",
            "  inflating: Normaltrain.csv         \n",
            "Archive:  /content/sagtrain.zip?raw=true\n",
            "  inflating: sagtrain.csv            \n",
            "Archive:  /content/Normal1.zip?raw=true\n",
            "  inflating: Normal1.csv             \n",
            "Archive:  /content/sag2.zip?raw=true\n",
            "  inflating: sag2.csv                \n"
          ]
        }
      ],
      "source": [
        "!wget  https://github.com/andresafanador/IA/blob/85e039f1ec4e12faf32a3c0ed20e09b5c1ebccd5/Data%20Base/Normal1.zip?raw=true\n",
        "!wget https://github.com/andresafanador/IA/blob/85e039f1ec4e12faf32a3c0ed20e09b5c1ebccd5/Data%20Base/sag2.zip?raw=true\n",
        "!wget https://github.com/andresafanador/IA/blob/c3070bdb5a11d6589adea01d3c2b4147e8f40cc1/Train/Normaltrain.zip?raw=true\n",
        "!wget https://github.com/andresafanador/IA/blob/c3070bdb5a11d6589adea01d3c2b4147e8f40cc1/Train/sagtrain.zip?raw=true\n",
        "\n",
        "! unzip /content/Normaltrain.zip?raw=true\n",
        "Ntrain=pd.read_csv(\"Normaltrain.csv\")\n",
        "\n",
        "! unzip /content/sagtrain.zip?raw=true\n",
        "Strain=pd.read_csv(\"sagtrain.csv\")\n",
        "\n",
        "! unzip /content/Normal1.zip?raw=true\n",
        "Ntest=pd.read_csv(\"Normal1.csv\")\n",
        "\n",
        "! unzip /content/sag2.zip?raw=true\n",
        "Stest=pd.read_csv(\"sag2.csv\")"
      ]
    },
    {
      "cell_type": "markdown",
      "source": [
        "Probamos el metodo de regresion lineal."
      ],
      "metadata": {
        "id": "z5lBmt6JYsWc"
      }
    },
    {
      "cell_type": "code",
      "source": [
        "xtrain,ytrain=data(Strain,Ntrain)\n",
        "xtest,ytest=data(Stest,Ntest)\n",
        "\n",
        "lr = LogisticRegression()\n",
        "lr.fit(xtrain,ytrain)\n",
        "print(\"Para logistic regression:\")\n",
        "print (\"El desempeño con los datos de entrenamiento fue\",lr.score(xtrain,ytrain))\n",
        "print (\"El desempeño con los datos de testeo fue\",lr.score(xtest,ytest))\n",
        "print(\"Para coeficiente de determinacion:\",r2_score(ytest,lr.predict(xtest)))\n",
        "print(\"Para el error absoluto medio:\",median_absolute_error(ytest,lr.predict(xtest)))\n",
        "print(\"Para el promedio del error cuadratico:\",mean_squared_error(ytest,lr.predict(xtest)))"
      ],
      "metadata": {
        "id": "dOAXwv2pYvk7"
      },
      "execution_count": null,
      "outputs": []
    },
    {
      "cell_type": "markdown",
      "source": [
        "Probamos con metodos no supervisados."
      ],
      "metadata": {
        "id": "wn_BfjOkd50y"
      }
    },
    {
      "cell_type": "code",
      "source": [
        "km = KMeans(n_clusters=2)\n",
        "km.fit(xtest)\n",
        "yclus = km.predict(xtest)\n",
        "km.cluster_centers_\n",
        "\n"
      ],
      "metadata": {
        "id": "fJOi0st3eSJF"
      },
      "execution_count": null,
      "outputs": []
    },
    {
      "cell_type": "code",
      "source": [
        "\n",
        "nxtest=np.array(xtest)\n",
        "par=[]\n",
        "impar=[]\n",
        "print(np.shape(nxtest)[0])\n",
        "for i in range(np.shape(nxtest)[0]):\n",
        "  if i%2==0:\n",
        "      par.append(list(nxtest[i,:]))\n",
        "  else:\n",
        "      impar.append(list(nxtest[i,:]))\n",
        "par=np.array(par)\n",
        "impar=np.array(impar)\n",
        "plt.scatter(par[:500,5], par[:500,0],label=\"Con impurezas\")\n",
        "plt.scatter(impar[:500,5], impar[:500,0],label=\"Onda sana\")\n",
        "plt.legend()\n",
        "plt.xlabel(\"THD promedio\")\n",
        "plt.ylabel(\"Promedio de la onda\")\n",
        "plt.scatter(km.cluster_centers_[0,5],km.cluster_centers_[0,0],label=\"Centroide 1\",marker=\"x\", lw=5, s=200, color=\"black\")\n",
        "plt.scatter(km.cluster_centers_[1,5],km.cluster_centers_[1,0],label=\"Centroide 2\",marker=\"x\", lw=5, s=200, color=\"black\")"
      ],
      "metadata": {
        "id": "ZPCIF88zd4B_"
      },
      "execution_count": null,
      "outputs": []
    },
    {
      "cell_type": "markdown",
      "source": [
        "Por la imagen anterior nos dimos cuentas que teniamos un problema con la base de datos dado a que las ondas sanas nos daban practicamente los mismos valores y por ende decidimos graficar todas las ondas sanas. "
      ],
      "metadata": {
        "id": "fu6Wqyo0eini"
      }
    },
    {
      "cell_type": "code",
      "source": [
        "nNtest=np.array(Ntest)\n",
        "print(np.shape(nNtest[:,1]))\n",
        "for i in range(1,100,1):\n",
        "  plt.plot(nNtest[:,i])\n",
        "plt.title(\"Ondas sanas\")\n",
        "plt.xlabel(\"Tiempo\")\n",
        "plt.ylabel(\"A\")"
      ],
      "metadata": {
        "id": "tDsY9TYqejlr"
      },
      "execution_count": null,
      "outputs": []
    }
  ]
}