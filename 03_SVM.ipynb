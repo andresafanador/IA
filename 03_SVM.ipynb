{
  "nbformat": 4,
  "nbformat_minor": 0,
  "metadata": {
    "colab": {
      "provenance": []
    },
    "kernelspec": {
      "name": "python3",
      "display_name": "Python 3"
    },
    "language_info": {
      "name": "python"
    }
  },
  "cells": [
    {
      "cell_type": "markdown",
      "source": [
        "Importamos las funciones del py para el preproceso."
      ],
      "metadata": {
        "id": "nmGmNHpAfS4W"
      }
    },
    {
      "cell_type": "code",
      "execution_count": 1,
      "metadata": {
        "colab": {
          "base_uri": "https://localhost:8080/"
        },
        "id": "4J5-fdyHfLFs",
        "outputId": "54991112-2a77-4781-a179-d66ac0efbff3"
      },
      "outputs": [
        {
          "output_type": "stream",
          "name": "stdout",
          "text": [
            "Cloning into 'Functions'...\n",
            "remote: Enumerating objects: 23, done.\u001b[K\n",
            "remote: Counting objects: 100% (23/23), done.\u001b[K\n",
            "remote: Compressing objects: 100% (20/20), done.\u001b[K\n",
            "remote: Total 23 (delta 4), reused 0 (delta 0), pack-reused 0\u001b[K\n",
            "Unpacking objects: 100% (23/23), 7.34 KiB | 940.00 KiB/s, done.\n"
          ]
        }
      ],
      "source": [
        "! git clone https://github.com/andresafanador/Functions.git\n",
        "from Functions.feature_extraction1 import data"
      ]
    },
    {
      "cell_type": "markdown",
      "source": [
        "Importamos las galerias."
      ],
      "metadata": {
        "id": "Ktj7LtpbfhX0"
      }
    },
    {
      "cell_type": "code",
      "source": [
        "import numpy as np\n",
        "import matplotlib.pyplot as plt\n",
        "import pandas as pd\n",
        "from sklearn.svm import SVC\n",
        "from sklearn.metrics import silhouette_samples, silhouette_score\n",
        "from sklearn.metrics import median_absolute_error, r2_score, mean_squared_error"
      ],
      "metadata": {
        "id": "Sh7PMKzjf7ou"
      },
      "execution_count": 2,
      "outputs": []
    },
    {
      "cell_type": "markdown",
      "source": [
        "Leemos la base de datos."
      ],
      "metadata": {
        "id": "K-c5-BPogJKh"
      }
    },
    {
      "cell_type": "code",
      "source": [
        "!wget  https://github.com/SebastianVillega5/ProyectoIA/blob/346f5331fe3033a573a605d69c06b5b2c169330d/Machine%20learning%20PQ/Data%20Base/Normal1.zip?raw=true\n",
        "!wget https://github.com/SebastianVillega5/ProyectoIA/blob/main/Machine%20learning%20PQ/Data%20Base/sag2.zip?raw=true\n",
        "!wget https://github.com/andresafanador/IA/blob/c3070bdb5a11d6589adea01d3c2b4147e8f40cc1/Train/Normaltrain.zip?raw=true\n",
        "!wget https://github.com/andresafanador/IA/blob/c3070bdb5a11d6589adea01d3c2b4147e8f40cc1/Train/sagtrain.zip?raw=true\n",
        "\n",
        "! unzip /content/Normaltrain.zip?raw=true\n",
        "Ntrain=pd.read_csv(\"Normaltrain.csv\")\n",
        "\n",
        "! unzip /content/sagtrain.zip?raw=true\n",
        "Strain=pd.read_csv(\"sagtrain.csv\")\n",
        "\n",
        "! unzip /content/Normal1.zip?raw=true\n",
        "Ntest=pd.read_csv(\"Normal1.csv\")\n",
        "\n",
        "! unzip /content/sag2.zip?raw=true\n",
        "Stest=pd.read_csv(\"sag2.csv\")"
      ],
      "metadata": {
        "colab": {
          "base_uri": "https://localhost:8080/"
        },
        "id": "nWNYyWhigKfh",
        "outputId": "20eeac40-10d1-4874-ed48-1e11609d7eb3"
      },
      "execution_count": 3,
      "outputs": [
        {
          "output_type": "stream",
          "name": "stdout",
          "text": [
            "--2023-05-22 23:19:22--  https://github.com/SebastianVillega5/ProyectoIA/blob/346f5331fe3033a573a605d69c06b5b2c169330d/Machine%20learning%20PQ/Data%20Base/Normal1.zip?raw=true\n",
            "Resolving github.com (github.com)... 140.82.113.3\n",
            "Connecting to github.com (github.com)|140.82.113.3|:443... connected.\n",
            "HTTP request sent, awaiting response... 302 Found\n",
            "Location: https://github.com/SebastianVillega5/ProyectoIA/raw/346f5331fe3033a573a605d69c06b5b2c169330d/Machine%20learning%20PQ/Data%20Base/Normal1.zip [following]\n",
            "--2023-05-22 23:19:22--  https://github.com/SebastianVillega5/ProyectoIA/raw/346f5331fe3033a573a605d69c06b5b2c169330d/Machine%20learning%20PQ/Data%20Base/Normal1.zip\n",
            "Reusing existing connection to github.com:443.\n",
            "HTTP request sent, awaiting response... 302 Found\n",
            "Location: https://raw.githubusercontent.com/SebastianVillega5/ProyectoIA/346f5331fe3033a573a605d69c06b5b2c169330d/Machine%20learning%20PQ/Data%20Base/Normal1.zip [following]\n",
            "--2023-05-22 23:19:23--  https://raw.githubusercontent.com/SebastianVillega5/ProyectoIA/346f5331fe3033a573a605d69c06b5b2c169330d/Machine%20learning%20PQ/Data%20Base/Normal1.zip\n",
            "Resolving raw.githubusercontent.com (raw.githubusercontent.com)... 185.199.108.133, 185.199.109.133, 185.199.110.133, ...\n",
            "Connecting to raw.githubusercontent.com (raw.githubusercontent.com)|185.199.108.133|:443... connected.\n",
            "HTTP request sent, awaiting response... 200 OK\n",
            "Length: 584857 (571K) [application/zip]\n",
            "Saving to: ‘Normal1.zip?raw=true’\n",
            "\n",
            "Normal1.zip?raw=tru 100%[===================>] 571.15K  --.-KB/s    in 0.03s   \n",
            "\n",
            "2023-05-22 23:19:23 (19.1 MB/s) - ‘Normal1.zip?raw=true’ saved [584857/584857]\n",
            "\n",
            "--2023-05-22 23:19:23--  https://github.com/SebastianVillega5/ProyectoIA/blob/main/Machine%20learning%20PQ/Data%20Base/sag2.zip?raw=true\n",
            "Resolving github.com (github.com)... 140.82.113.3\n",
            "Connecting to github.com (github.com)|140.82.113.3|:443... connected.\n",
            "HTTP request sent, awaiting response... 302 Found\n",
            "Location: https://github.com/SebastianVillega5/ProyectoIA/raw/main/Machine%20learning%20PQ/Data%20Base/sag2.zip [following]\n",
            "--2023-05-22 23:19:23--  https://github.com/SebastianVillega5/ProyectoIA/raw/main/Machine%20learning%20PQ/Data%20Base/sag2.zip\n",
            "Reusing existing connection to github.com:443.\n",
            "HTTP request sent, awaiting response... 302 Found\n",
            "Location: https://raw.githubusercontent.com/SebastianVillega5/ProyectoIA/main/Machine%20learning%20PQ/Data%20Base/sag2.zip [following]\n",
            "--2023-05-22 23:19:23--  https://raw.githubusercontent.com/SebastianVillega5/ProyectoIA/main/Machine%20learning%20PQ/Data%20Base/sag2.zip\n",
            "Resolving raw.githubusercontent.com (raw.githubusercontent.com)... 185.199.111.133, 185.199.110.133, 185.199.109.133, ...\n",
            "Connecting to raw.githubusercontent.com (raw.githubusercontent.com)|185.199.111.133|:443... connected.\n",
            "HTTP request sent, awaiting response... 200 OK\n",
            "Length: 17170993 (16M) [application/zip]\n",
            "Saving to: ‘sag2.zip?raw=true’\n",
            "\n",
            "sag2.zip?raw=true   100%[===================>]  16.38M  63.5MB/s    in 0.3s    \n",
            "\n",
            "2023-05-22 23:19:24 (63.5 MB/s) - ‘sag2.zip?raw=true’ saved [17170993/17170993]\n",
            "\n",
            "--2023-05-22 23:19:24--  https://github.com/andresafanador/IA/blob/c3070bdb5a11d6589adea01d3c2b4147e8f40cc1/Train/Normaltrain.zip?raw=true\n",
            "Resolving github.com (github.com)... 140.82.113.3\n",
            "Connecting to github.com (github.com)|140.82.113.3|:443... connected.\n",
            "HTTP request sent, awaiting response... 302 Found\n",
            "Location: https://github.com/andresafanador/IA/raw/c3070bdb5a11d6589adea01d3c2b4147e8f40cc1/Train/Normaltrain.zip [following]\n",
            "--2023-05-22 23:19:25--  https://github.com/andresafanador/IA/raw/c3070bdb5a11d6589adea01d3c2b4147e8f40cc1/Train/Normaltrain.zip\n",
            "Reusing existing connection to github.com:443.\n",
            "HTTP request sent, awaiting response... 302 Found\n",
            "Location: https://raw.githubusercontent.com/andresafanador/IA/c3070bdb5a11d6589adea01d3c2b4147e8f40cc1/Train/Normaltrain.zip [following]\n",
            "--2023-05-22 23:19:25--  https://raw.githubusercontent.com/andresafanador/IA/c3070bdb5a11d6589adea01d3c2b4147e8f40cc1/Train/Normaltrain.zip\n",
            "Resolving raw.githubusercontent.com (raw.githubusercontent.com)... 185.199.108.133, 185.199.109.133, 185.199.110.133, ...\n",
            "Connecting to raw.githubusercontent.com (raw.githubusercontent.com)|185.199.108.133|:443... connected.\n",
            "HTTP request sent, awaiting response... 200 OK\n",
            "Length: 155317 (152K) [application/zip]\n",
            "Saving to: ‘Normaltrain.zip?raw=true’\n",
            "\n",
            "Normaltrain.zip?raw 100%[===================>] 151.68K  --.-KB/s    in 0.02s   \n",
            "\n",
            "2023-05-22 23:19:25 (8.17 MB/s) - ‘Normaltrain.zip?raw=true’ saved [155317/155317]\n",
            "\n",
            "--2023-05-22 23:19:25--  https://github.com/andresafanador/IA/blob/c3070bdb5a11d6589adea01d3c2b4147e8f40cc1/Train/sagtrain.zip?raw=true\n",
            "Resolving github.com (github.com)... 140.82.113.3\n",
            "Connecting to github.com (github.com)|140.82.113.3|:443... connected.\n",
            "HTTP request sent, awaiting response... 302 Found\n",
            "Location: https://github.com/andresafanador/IA/raw/c3070bdb5a11d6589adea01d3c2b4147e8f40cc1/Train/sagtrain.zip [following]\n",
            "--2023-05-22 23:19:26--  https://github.com/andresafanador/IA/raw/c3070bdb5a11d6589adea01d3c2b4147e8f40cc1/Train/sagtrain.zip\n",
            "Reusing existing connection to github.com:443.\n",
            "HTTP request sent, awaiting response... 302 Found\n",
            "Location: https://raw.githubusercontent.com/andresafanador/IA/c3070bdb5a11d6589adea01d3c2b4147e8f40cc1/Train/sagtrain.zip [following]\n",
            "--2023-05-22 23:19:26--  https://raw.githubusercontent.com/andresafanador/IA/c3070bdb5a11d6589adea01d3c2b4147e8f40cc1/Train/sagtrain.zip\n",
            "Resolving raw.githubusercontent.com (raw.githubusercontent.com)... 185.199.108.133, 185.199.109.133, 185.199.110.133, ...\n",
            "Connecting to raw.githubusercontent.com (raw.githubusercontent.com)|185.199.108.133|:443... connected.\n",
            "HTTP request sent, awaiting response... 200 OK\n",
            "Length: 8384621 (8.0M) [application/zip]\n",
            "Saving to: ‘sagtrain.zip?raw=true’\n",
            "\n",
            "sagtrain.zip?raw=tr 100%[===================>]   8.00M  51.7MB/s    in 0.2s    \n",
            "\n",
            "2023-05-22 23:19:26 (51.7 MB/s) - ‘sagtrain.zip?raw=true’ saved [8384621/8384621]\n",
            "\n",
            "Archive:  /content/Normaltrain.zip?raw=true\n",
            "  inflating: Normaltrain.csv         \n",
            "Archive:  /content/sagtrain.zip?raw=true\n",
            "  inflating: sagtrain.csv            \n",
            "Archive:  /content/Normal1.zip?raw=true\n",
            "  inflating: Normal1.csv             \n",
            "Archive:  /content/sag2.zip?raw=true\n",
            "  inflating: sag2.csv                \n"
          ]
        }
      ]
    },
    {
      "cell_type": "markdown",
      "source": [
        "Le hacemos feature extraction a los datos."
      ],
      "metadata": {
        "id": "PTdLtL_EghV0"
      }
    },
    {
      "cell_type": "code",
      "source": [
        "xtrain,ytrain=data(Strain,Ntrain)\n",
        "xtest,ytest=data(Stest,Ntest)"
      ],
      "metadata": {
        "id": "y1y8SofZgopA"
      },
      "execution_count": 4,
      "outputs": []
    },
    {
      "cell_type": "markdown",
      "source": [
        "Probamos el desempeño de SVM."
      ],
      "metadata": {
        "id": "3zYtGzAVhDze"
      }
    },
    {
      "cell_type": "code",
      "source": [
        "sv = SVC(gamma=1)\n",
        "sv.fit(xtrain,ytrain)\n",
        "print (\"El desempeño con los datos de entrenamiento fue\",sv.score(xtrain,ytrain))\n",
        "print (\"El desempeño con los datos de testeo fue\",sv.score(xtest,ytest))"
      ],
      "metadata": {
        "colab": {
          "base_uri": "https://localhost:8080/"
        },
        "id": "_6Sa-ctVhJFU",
        "outputId": "9f65ee60-65de-4bbb-8bc3-57972a8620d2"
      },
      "execution_count": 5,
      "outputs": [
        {
          "output_type": "stream",
          "name": "stdout",
          "text": [
            "El desempeño con los datos de entrenamiento fue 0.9796\n",
            "El desempeño con los datos de testeo fue 0.97665\n"
          ]
        }
      ]
    },
    {
      "cell_type": "markdown",
      "source": [
        "Probamos ahora el desempeño con r2_score ,median_absolute_error y mean_squared_error."
      ],
      "metadata": {
        "id": "YMDMqm6jhNm5"
      }
    },
    {
      "cell_type": "code",
      "source": [
        "print(\"Para SVM\")\n",
        "print(\"El coeficiente de determinacion:\",r2_score(ytest,sv.predict(xtest)))\n",
        "print(\"El error absoluto medio:\",median_absolute_error(ytest,sv.predict(xtest)))\n",
        "print(\"El  promedio del error cuadratico:\",mean_squared_error(ytest,sv.predict(xtest)))"
      ],
      "metadata": {
        "colab": {
          "base_uri": "https://localhost:8080/"
        },
        "id": "rhb7-RPYhOD3",
        "outputId": "83b064fd-9470-4a20-f376-129726f7a350"
      },
      "execution_count": 6,
      "outputs": [
        {
          "output_type": "stream",
          "name": "stdout",
          "text": [
            "Para SVM\n",
            "El coeficiente de determinacion: 0.9066\n",
            "El error absoluto medio: 0.0\n",
            "El  promedio del error cuadratico: 0.02335\n"
          ]
        }
      ]
    }
  ]
}