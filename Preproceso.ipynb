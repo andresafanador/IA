{
  "cells": [
    {
      "cell_type": "markdown",
      "metadata": {
        "id": "c3RTZ2u5hOOt"
      },
      "source": [
        "Importamos la librerias"
      ]
    },
    {
      "cell_type": "code",
      "execution_count": null,
      "metadata": {
        "id": "Wpc2nkGchJ7d"
      },
      "outputs": [],
      "source": [
        "\n",
        "from numpy import sqrt, mean, absolute, real, conj\n",
        "import numpy as np\n",
        "import matplotlib.pyplot as plt\n",
        "\n",
        "from scipy import fftpack\n",
        "import math as m\n",
        "import pandas as pd"
      ]
    },
    {
      "cell_type": "markdown",
      "metadata": {
        "id": "shUWF7oynNJ3"
      },
      "source": [
        "Traemos la informacion de github"
      ]
    },
    {
      "cell_type": "code",
      "execution_count": null,
      "metadata": {
        "colab": {
          "base_uri": "https://localhost:8080/"
        },
        "id": "RUEfFnAihR2F",
        "outputId": "0d38c651-60df-46a4-a40d-6f26c5a6a444"
      },
      "outputs": [
        {
          "name": "stdout",
          "output_type": "stream",
          "text": [
            "--2023-04-22 21:32:30--  https://github.com/SebastianVillega5/ProyectoIA/blob/346f5331fe3033a573a605d69c06b5b2c169330d/Machine%20learning%20PQ/Data%20Base/Normal1.zip?raw=true\n",
            "Resolving github.com (github.com)... 140.82.112.4\n",
            "Connecting to github.com (github.com)|140.82.112.4|:443... connected.\n",
            "HTTP request sent, awaiting response... 302 Found\n",
            "Location: https://github.com/SebastianVillega5/ProyectoIA/raw/346f5331fe3033a573a605d69c06b5b2c169330d/Machine%20learning%20PQ/Data%20Base/Normal1.zip [following]\n",
            "--2023-04-22 21:32:30--  https://github.com/SebastianVillega5/ProyectoIA/raw/346f5331fe3033a573a605d69c06b5b2c169330d/Machine%20learning%20PQ/Data%20Base/Normal1.zip\n",
            "Reusing existing connection to github.com:443.\n",
            "HTTP request sent, awaiting response... 302 Found\n",
            "Location: https://raw.githubusercontent.com/SebastianVillega5/ProyectoIA/346f5331fe3033a573a605d69c06b5b2c169330d/Machine%20learning%20PQ/Data%20Base/Normal1.zip [following]\n",
            "--2023-04-22 21:32:30--  https://raw.githubusercontent.com/SebastianVillega5/ProyectoIA/346f5331fe3033a573a605d69c06b5b2c169330d/Machine%20learning%20PQ/Data%20Base/Normal1.zip\n",
            "Resolving raw.githubusercontent.com (raw.githubusercontent.com)... 185.199.108.133, 185.199.109.133, 185.199.110.133, ...\n",
            "Connecting to raw.githubusercontent.com (raw.githubusercontent.com)|185.199.108.133|:443... connected.\n",
            "HTTP request sent, awaiting response... 200 OK\n",
            "Length: 584857 (571K) [application/zip]\n",
            "Saving to: ‘Normal1.zip?raw=true’\n",
            "\n",
            "Normal1.zip?raw=tru 100%[===================>] 571.15K  --.-KB/s    in 0.04s   \n",
            "\n",
            "2023-04-22 21:32:31 (13.4 MB/s) - ‘Normal1.zip?raw=true’ saved [584857/584857]\n",
            "\n",
            "--2023-04-22 21:32:31--  https://github.com/SebastianVillega5/ProyectoIA/blob/main/Machine%20learning%20PQ/Data%20Base/sag2.zip?raw=true\n",
            "Resolving github.com (github.com)... 140.82.114.4\n",
            "Connecting to github.com (github.com)|140.82.114.4|:443... connected.\n",
            "HTTP request sent, awaiting response... 302 Found\n",
            "Location: https://github.com/SebastianVillega5/ProyectoIA/raw/main/Machine%20learning%20PQ/Data%20Base/sag2.zip [following]\n",
            "--2023-04-22 21:32:31--  https://github.com/SebastianVillega5/ProyectoIA/raw/main/Machine%20learning%20PQ/Data%20Base/sag2.zip\n",
            "Reusing existing connection to github.com:443.\n",
            "HTTP request sent, awaiting response... 302 Found\n",
            "Location: https://raw.githubusercontent.com/SebastianVillega5/ProyectoIA/main/Machine%20learning%20PQ/Data%20Base/sag2.zip [following]\n",
            "--2023-04-22 21:32:31--  https://raw.githubusercontent.com/SebastianVillega5/ProyectoIA/main/Machine%20learning%20PQ/Data%20Base/sag2.zip\n",
            "Resolving raw.githubusercontent.com (raw.githubusercontent.com)... 185.199.110.133, 185.199.109.133, 185.199.111.133, ...\n",
            "Connecting to raw.githubusercontent.com (raw.githubusercontent.com)|185.199.110.133|:443... connected.\n",
            "HTTP request sent, awaiting response... 200 OK\n",
            "Length: 17170993 (16M) [application/zip]\n",
            "Saving to: ‘sag2.zip?raw=true’\n",
            "\n",
            "sag2.zip?raw=true   100%[===================>]  16.38M  --.-KB/s    in 0.1s    \n",
            "\n",
            "2023-04-22 21:32:32 (134 MB/s) - ‘sag2.zip?raw=true’ saved [17170993/17170993]\n",
            "\n"
          ]
        }
      ],
      "source": [
        "!wget  https://github.com/SebastianVillega5/ProyectoIA/blob/346f5331fe3033a573a605d69c06b5b2c169330d/Machine%20learning%20PQ/Data%20Base/Normal1.zip?raw=true\n",
        "!wget https://github.com/SebastianVillega5/ProyectoIA/blob/main/Machine%20learning%20PQ/Data%20Base/sag2.zip?raw=true"
      ]
    },
    {
      "cell_type": "markdown",
      "metadata": {
        "id": "-4BtOvXLpxZz"
      },
      "source": [
        "Leemos los archivos de las ondas sanas"
      ]
    },
    {
      "cell_type": "code",
      "execution_count": null,
      "metadata": {
        "colab": {
          "background_save": true,
          "base_uri": "https://localhost:8080/"
        },
        "id": "eFfr5ywEhm-V",
        "outputId": "66fe1092-e5ef-4114-fa38-2a084e34b770"
      },
      "outputs": [
        {
          "name": "stdout",
          "output_type": "stream",
          "text": [
            "Archive:  /content/Normal1.zip?raw=true\n",
            "replace Normal1.csv? [y]es, [n]o, [A]ll, [N]one, [r]ename: "
          ]
        }
      ],
      "source": [
        "! unzip /content/Normal1.zip?raw=true\n",
        "readerN=pd.read_csv(\"Normal1.csv\")\n",
        "xN=list(np.transpose(np.array(readerN[\"0\"])))"
      ]
    },
    {
      "cell_type": "markdown",
      "metadata": {
        "id": "c5OgOBI0p3L2"
      },
      "source": [
        "Leemos los archivos de las ondas con sag"
      ]
    },
    {
      "cell_type": "code",
      "execution_count": null,
      "metadata": {
        "colab": {
          "base_uri": "https://localhost:8080/"
        },
        "id": "iofQGZGBfGSp",
        "outputId": "553018c4-fa78-4ce2-af0a-042256e891a7"
      },
      "outputs": [
        {
          "name": "stdout",
          "output_type": "stream",
          "text": [
            "Archive:  /content/sag2.zip?raw=true\n",
            "  inflating: sag2.csv                \n"
          ]
        }
      ],
      "source": [
        "! unzip /content/sag2.zip?raw=true\n",
        "readers=pd.read_csv(\"sag2.csv\")\n",
        "x=list(np.transpose(np.array(readers[\"0\"])))"
      ]
    },
    {
      "cell_type": "markdown",
      "metadata": {
        "id": "vcKp7ctinSO5"
      },
      "source": [
        "Definimos las primeras funciones y las probamos"
      ]
    },
    {
      "cell_type": "code",
      "execution_count": null,
      "metadata": {
        "colab": {
          "base_uri": "https://localhost:8080/"
        },
        "id": "DUAPzdThnK1j",
        "outputId": "0d8a4dbf-eb57-4dec-d44e-14b62e20ca50"
      },
      "outputs": [
        {
          "name": "stdout",
          "output_type": "stream",
          "text": [
            "La desviacion estandar y el promedio para onda con sag 0.5901470904089854 0.009662840927910967\n",
            "La desviacion estandar y el promedio sano es 0.7073255822066349 4.909283461214134e-05\n",
            "Las veces que la onda con sag es mayor a 1, menor a 0.1 y entre 0.1 y 1\n",
            "Es respectivamente\n",
            "0 45 488\n"
          ]
        }
      ],
      "source": [
        "def std(vecstd):\n",
        "  #Funcion para la desviacion estandar\n",
        "  return np.std(vecstd)\n",
        "def mean(meanvec):\n",
        "  #Funcion para el promedio \n",
        "  return np.mean(meanvec)\n",
        "print(\"La desviacion estandar y el promedio para onda con sag\",std(x),mean(x))\n",
        "print(\"La desviacion estandar y el promedio sano es\",std(xN),mean(xN))\n",
        "def counth(vech):\n",
        "  #Funcion para hacer la cuenta de los valores encima de 1\n",
        "  vecn1=abs(np.array(vech))\n",
        "  count1=0\n",
        "  for i in vecn1:\n",
        "    if abs(i)>1:\n",
        "      count1=count1+1\n",
        "  return count1\n",
        "def countlow(vecl):\n",
        "  #Funcion para contar las veces que el valor es menor a 0.1\n",
        "  veclow=abs(np.array(vecl))\n",
        "  clow=0\n",
        "  for i in veclow:\n",
        "    if abs(i)<=0.1:\n",
        "      clow=clow+1\n",
        "  return clow\n",
        "def countinter(vint):\n",
        "  #Funcion para contar las veces que se encuentra en el intervalo 0.1 y 1\n",
        "  vinter=abs(np.array(vint))\n",
        "  cinter=0\n",
        "  for i in vinter:\n",
        "    if abs(i)>0.1 and abs(i)<=1:\n",
        "          cinter=cinter+1\n",
        "  return cinter\n",
        "##Probamos la funcion \n",
        "print(\"Las veces que la onda con sag es mayor a 1, menor a 0.1 y entre 0.1 y 1\")\n",
        "print(\"Es respectivamente\")\n",
        "print(counth(x),countlow(x),countinter(x))\n",
        "\n",
        "###Le haremos la FFT para sacar una caracteristica llamada THD\n"
      ]
    },
    {
      "cell_type": "code",
      "execution_count": null,
      "metadata": {
        "colab": {
          "base_uri": "https://localhost:8080/"
        },
        "id": "hIiJWNEgo7i6",
        "outputId": "00835a73-5d16-456d-8512-af6102572c60"
      },
      "outputs": [
        {
          "name": "stdout",
          "output_type": "stream",
          "text": [
            "El THD con sag es en promedio ,minimo y maximo:\n",
            "[6.54787757521943, 1.069849543936547, 34.187524645748674]\n",
            "El THD para sana es en promedio,minimo y maximo:\n",
            "[1.0818127758425846, 1.0675007242626917, 1.1018815593218223]\n"
          ]
        }
      ],
      "source": [
        "def RMS(Vrms1):\n",
        "  Vrms= np.abs(Vrms1)\n",
        "  return sqrt(sum(np.array(Vrms)**2))\n",
        "def THD(Vthd):\n",
        "  Vthd= np.abs(Vthd)\n",
        "  \n",
        "  return sqrt(((RMS(Vthd)/list(Vthd)[1])**2)-1)*100\n",
        "\n",
        "\n",
        "def THDIA(vTHDIA1):\n",
        "  \"Esta funcion me saca el THD promedio de todos los ciclos, el menor y el mayor\"\n",
        "  #Dividimos el vector en su numero de ciclos en una lista \n",
        "  vTHDIA=list(vTHDIA1)\n",
        "  interval=[]\n",
        "  ffi=[]\n",
        "  THDr=[]\n",
        "  LHDr=[]\n",
        "  for i in range(1,m.floor(len(vTHDIA)/53.3)-1):\n",
        "      num1=m.floor(53*(i-1))\n",
        "      num2=m.floor(53*(i))\n",
        "      \n",
        "      interval=vTHDIA[num1:num2]\n",
        "      #Hacemos la transformada de fourier y lo añadimos a una lista\n",
        "      ffi=fftpack.fft(interval)\n",
        "      \n",
        "      #Le aplicamos el THD\n",
        "      THDr.append(THD(list(ffi)[0:7]))\n",
        "      #Le aplicamos el LHD que es THD pero considerando solo los primeros 7 frecuencias\n",
        "  \n",
        "  #Vamos a retornar una lista de 6 numeros \n",
        "  mp=[np.mean(THDr),min(THDr),max(THDr)]\n",
        "  return mp\n",
        "print(\"El THD con sag es en promedio ,minimo y maximo:\")\n",
        "print(THDIA(x))\n",
        "print(\"El THD para sana es en promedio,minimo y maximo:\")\n",
        "print(THDIA(xN))\n",
        "\n",
        "from scipy import fftpack\n",
        "import math as m\n",
        "import matplotlib.pyplot as plt\n"
      ]
    }
  ],
  "metadata": {
    "colab": {
      "provenance": []
    },
    "kernelspec": {
      "display_name": "Python 3",
      "name": "python3"
    },
    "language_info": {
      "name": "python"
    }
  },
  "nbformat": 4,
  "nbformat_minor": 0
}