{
  "cells": [
    {
      "cell_type": "markdown",
      "metadata": {
        "id": "c3RTZ2u5hOOt"
      },
      "source": [
        "Importamos la librerias"
      ]
    },
    {
      "cell_type": "code",
      "execution_count": 1,
      "metadata": {
        "id": "Wpc2nkGchJ7d"
      },
      "outputs": [],
      "source": [
        "\n",
        "from numpy import sqrt, mean, absolute, real, conj\n",
        "import numpy as np\n",
        "import matplotlib.pyplot as plt\n",
        "\n",
        "from scipy import fftpack\n",
        "import math as m\n",
        "import pandas as pd"
      ]
    },
    {
      "cell_type": "markdown",
      "metadata": {
        "id": "shUWF7oynNJ3"
      },
      "source": [
        "Traemos la informacion de github"
      ]
    },
    {
      "cell_type": "code",
      "execution_count": 2,
      "metadata": {
        "colab": {
          "base_uri": "https://localhost:8080/"
        },
        "id": "RUEfFnAihR2F",
        "outputId": "4649bf5a-97aa-441c-964f-eed55ba82a70"
      },
      "outputs": [
        {
          "output_type": "stream",
          "name": "stdout",
          "text": [
            "--2023-05-27 19:41:44--  https://github.com/andresafanador/IA/blob/85e039f1ec4e12faf32a3c0ed20e09b5c1ebccd5/Data%20Base/Normal1.zip?raw=true\n",
            "Resolving github.com (github.com)... 140.82.112.4\n",
            "Connecting to github.com (github.com)|140.82.112.4|:443... connected.\n",
            "HTTP request sent, awaiting response... 302 Found\n",
            "Location: https://github.com/andresafanador/IA/raw/85e039f1ec4e12faf32a3c0ed20e09b5c1ebccd5/Data%20Base/Normal1.zip [following]\n",
            "--2023-05-27 19:41:44--  https://github.com/andresafanador/IA/raw/85e039f1ec4e12faf32a3c0ed20e09b5c1ebccd5/Data%20Base/Normal1.zip\n",
            "Reusing existing connection to github.com:443.\n",
            "HTTP request sent, awaiting response... 302 Found\n",
            "Location: https://raw.githubusercontent.com/andresafanador/IA/85e039f1ec4e12faf32a3c0ed20e09b5c1ebccd5/Data%20Base/Normal1.zip [following]\n",
            "--2023-05-27 19:41:44--  https://raw.githubusercontent.com/andresafanador/IA/85e039f1ec4e12faf32a3c0ed20e09b5c1ebccd5/Data%20Base/Normal1.zip\n",
            "Resolving raw.githubusercontent.com (raw.githubusercontent.com)... 185.199.111.133, 185.199.109.133, 185.199.108.133, ...\n",
            "Connecting to raw.githubusercontent.com (raw.githubusercontent.com)|185.199.111.133|:443... connected.\n",
            "HTTP request sent, awaiting response... 200 OK\n",
            "Length: 584857 (571K) [application/zip]\n",
            "Saving to: ‘Normal1.zip?raw=true’\n",
            "\n",
            "Normal1.zip?raw=tru 100%[===================>] 571.15K  --.-KB/s    in 0.05s   \n",
            "\n",
            "2023-05-27 19:41:45 (11.1 MB/s) - ‘Normal1.zip?raw=true’ saved [584857/584857]\n",
            "\n",
            "--2023-05-27 19:41:45--  https://github.com/andresafanador/IA/blob/85e039f1ec4e12faf32a3c0ed20e09b5c1ebccd5/Data%20Base/sag2.zip?raw=true\n",
            "Resolving github.com (github.com)... 140.82.113.4\n",
            "Connecting to github.com (github.com)|140.82.113.4|:443... connected.\n",
            "HTTP request sent, awaiting response... 302 Found\n",
            "Location: https://github.com/andresafanador/IA/raw/85e039f1ec4e12faf32a3c0ed20e09b5c1ebccd5/Data%20Base/sag2.zip [following]\n",
            "--2023-05-27 19:41:45--  https://github.com/andresafanador/IA/raw/85e039f1ec4e12faf32a3c0ed20e09b5c1ebccd5/Data%20Base/sag2.zip\n",
            "Reusing existing connection to github.com:443.\n",
            "HTTP request sent, awaiting response... 302 Found\n",
            "Location: https://raw.githubusercontent.com/andresafanador/IA/85e039f1ec4e12faf32a3c0ed20e09b5c1ebccd5/Data%20Base/sag2.zip [following]\n",
            "--2023-05-27 19:41:45--  https://raw.githubusercontent.com/andresafanador/IA/85e039f1ec4e12faf32a3c0ed20e09b5c1ebccd5/Data%20Base/sag2.zip\n",
            "Resolving raw.githubusercontent.com (raw.githubusercontent.com)... 185.199.108.133, 185.199.109.133, 185.199.110.133, ...\n",
            "Connecting to raw.githubusercontent.com (raw.githubusercontent.com)|185.199.108.133|:443... connected.\n",
            "HTTP request sent, awaiting response... 200 OK\n",
            "Length: 17170993 (16M) [application/zip]\n",
            "Saving to: ‘sag2.zip?raw=true’\n",
            "\n",
            "sag2.zip?raw=true   100%[===================>]  16.38M  97.4MB/s    in 0.2s    \n",
            "\n",
            "2023-05-27 19:41:46 (97.4 MB/s) - ‘sag2.zip?raw=true’ saved [17170993/17170993]\n",
            "\n"
          ]
        }
      ],
      "source": [
        "!wget  https://github.com/andresafanador/IA/blob/85e039f1ec4e12faf32a3c0ed20e09b5c1ebccd5/Data%20Base/Normal1.zip?raw=true\n",
        "!wget https://github.com/andresafanador/IA/blob/85e039f1ec4e12faf32a3c0ed20e09b5c1ebccd5/Data%20Base/sag2.zip?raw=true\n"
      ]
    },
    {
      "cell_type": "markdown",
      "metadata": {
        "id": "-4BtOvXLpxZz"
      },
      "source": [
        "Leemos los archivos de las ondas sanas"
      ]
    },
    {
      "cell_type": "code",
      "execution_count": 3,
      "metadata": {
        "colab": {
          "base_uri": "https://localhost:8080/"
        },
        "id": "eFfr5ywEhm-V",
        "outputId": "515a1cb3-5e0a-467f-d0c3-2e219727947f"
      },
      "outputs": [
        {
          "output_type": "stream",
          "name": "stdout",
          "text": [
            "Archive:  /content/Normal1.zip?raw=true\n",
            "  inflating: Normal1.csv             \n"
          ]
        }
      ],
      "source": [
        "! unzip /content/Normal1.zip?raw=true\n",
        "readerN=pd.read_csv(\"Normal1.csv\")\n",
        "xN=list(np.transpose(np.array(readerN[\"0\"])))"
      ]
    },
    {
      "cell_type": "markdown",
      "metadata": {
        "id": "c5OgOBI0p3L2"
      },
      "source": [
        "Leemos los archivos de las ondas con sag"
      ]
    },
    {
      "cell_type": "code",
      "execution_count": 4,
      "metadata": {
        "colab": {
          "base_uri": "https://localhost:8080/"
        },
        "id": "iofQGZGBfGSp",
        "outputId": "4f425d9d-5e99-43cb-a7ec-e7e129d70d75"
      },
      "outputs": [
        {
          "output_type": "stream",
          "name": "stdout",
          "text": [
            "Archive:  /content/sag2.zip?raw=true\n",
            "  inflating: sag2.csv                \n"
          ]
        }
      ],
      "source": [
        "! unzip /content/sag2.zip?raw=true\n",
        "readers=pd.read_csv(\"sag2.csv\")\n",
        "x=list(np.transpose(np.array(readers[\"0\"])))"
      ]
    },
    {
      "cell_type": "markdown",
      "metadata": {
        "id": "vcKp7ctinSO5"
      },
      "source": [
        "Definimos las primeras funciones y las probamos"
      ]
    },
    {
      "cell_type": "code",
      "execution_count": 5,
      "metadata": {
        "colab": {
          "base_uri": "https://localhost:8080/"
        },
        "id": "DUAPzdThnK1j",
        "outputId": "9620e1ba-cde5-4c5f-afa0-d19a5e74e76a"
      },
      "outputs": [
        {
          "output_type": "stream",
          "name": "stdout",
          "text": [
            "La desviacion estandar y el promedio para onda con sag 0.5901470904089854 0.009662840927910967\n",
            "La desviacion estandar y el promedio sano es 0.7073255822066349 4.909283461214134e-05\n",
            "Las veces que la onda con sag es mayor a 1, menor a 0.1 y entre 0.1 y 1\n",
            "Es respectivamente\n",
            "0 45 488\n"
          ]
        }
      ],
      "source": [
        "def std(vecstd):\n",
        "  #Funcion para la desviacion estandar\n",
        "  return np.std(vecstd)\n",
        "def mean(meanvec):\n",
        "  #Funcion para el promedio \n",
        "  return np.mean(meanvec)\n",
        "print(\"La desviacion estandar y el promedio para onda con sag\",std(x),mean(x))\n",
        "print(\"La desviacion estandar y el promedio sano es\",std(xN),mean(xN))\n",
        "def counth(vech):\n",
        "  #Funcion para hacer la cuenta de los valores encima de 1\n",
        "  vecn1=abs(np.array(vech))\n",
        "  count1=0\n",
        "  for i in vecn1:\n",
        "    if abs(i)>1:\n",
        "      count1=count1+1\n",
        "  return count1\n",
        "def countlow(vecl):\n",
        "  #Funcion para contar las veces que el valor es menor a 0.1\n",
        "  veclow=abs(np.array(vecl))\n",
        "  clow=0\n",
        "  for i in veclow:\n",
        "    if abs(i)<=0.1:\n",
        "      clow=clow+1\n",
        "  return clow\n",
        "def countinter(vint):\n",
        "  #Funcion para contar las veces que se encuentra en el intervalo 0.1 y 1\n",
        "  vinter=abs(np.array(vint))\n",
        "  cinter=0\n",
        "  for i in vinter:\n",
        "    if abs(i)>0.1 and abs(i)<=1:\n",
        "          cinter=cinter+1\n",
        "  return cinter\n",
        "##Probamos la funcion \n",
        "print(\"Las veces que la onda con sag es mayor a 1, menor a 0.1 y entre 0.1 y 1\")\n",
        "print(\"Es respectivamente\")\n",
        "print(counth(x),countlow(x),countinter(x))\n",
        "\n",
        "###Le haremos la FFT para sacar una caracteristica llamada THD\n"
      ]
    },
    {
      "cell_type": "markdown",
      "source": [
        "Probamos la funcion de medicion de la distorsion de la onda que funciona en conjunto con FFT."
      ],
      "metadata": {
        "id": "ATcRvSvdjsPC"
      }
    },
    {
      "cell_type": "code",
      "execution_count": 6,
      "metadata": {
        "colab": {
          "base_uri": "https://localhost:8080/"
        },
        "id": "hIiJWNEgo7i6",
        "outputId": "fc91b2d4-2361-450f-b5c4-23bf5f0fd065"
      },
      "outputs": [
        {
          "output_type": "stream",
          "name": "stdout",
          "text": [
            "El THD con sag es en promedio ,minimo y maximo:\n",
            "[6.54787757521943, 1.069849543936547, 34.187524645748674]\n",
            "El THD para sana es en promedio,minimo y maximo:\n",
            "[1.0818127758425846, 1.0675007242626917, 1.1018815593218223]\n"
          ]
        }
      ],
      "source": [
        "def RMS(Vrms1):\n",
        "  Vrms= np.abs(Vrms1)\n",
        "  return sqrt(sum(np.array(Vrms)**2))\n",
        "def THD(Vthd):\n",
        "  Vthd= np.abs(Vthd)\n",
        "  \n",
        "  return sqrt(((RMS(Vthd)/list(Vthd)[1])**2)-1)*100\n",
        "\n",
        "\n",
        "def THDIA(vTHDIA1):\n",
        "  \"Esta funcion me saca el THD promedio de todos los ciclos, el menor y el mayor\"\n",
        "  #Dividimos el vector en su numero de ciclos en una lista \n",
        "  vTHDIA=list(vTHDIA1)\n",
        "  interval=[]\n",
        "  ffi=[]\n",
        "  THDr=[]\n",
        "  LHDr=[]\n",
        "  for i in range(1,m.floor(len(vTHDIA)/53.3)-1):\n",
        "      num1=m.floor(53*(i-1))\n",
        "      num2=m.floor(53*(i))\n",
        "      \n",
        "      interval=vTHDIA[num1:num2]\n",
        "      #Hacemos la transformada de fourier y lo añadimos a una lista\n",
        "      ffi=fftpack.fft(interval)\n",
        "      \n",
        "      #Le aplicamos el THD\n",
        "      THDr.append(THD(list(ffi)[0:7]))\n",
        "      #Le aplicamos el LHD que es THD pero considerando solo los primeros 7 frecuencias\n",
        "  \n",
        "  #Vamos a retornar una lista de 6 numeros \n",
        "  mp=[np.mean(THDr),min(THDr),max(THDr)]\n",
        "  return mp\n",
        "print(\"El THD con sag es en promedio ,minimo y maximo:\")\n",
        "print(THDIA(x))\n",
        "print(\"El THD para sana es en promedio,minimo y maximo:\")\n",
        "print(THDIA(xN))\n",
        "\n",
        "from scipy import fftpack\n",
        "import math as m\n",
        "import matplotlib.pyplot as plt\n"
      ]
    },
    {
      "cell_type": "markdown",
      "source": [
        "Organizamos los datos en un vector para poder enviarselo a la IA en un futuro."
      ],
      "metadata": {
        "id": "dSsIuke6jrIF"
      }
    },
    {
      "cell_type": "code",
      "source": [
        "def preproceso(dfs):\n",
        "  x=[]\n",
        "  for i in range(len(dfs.T)-1):\n",
        "    ldfs=list(np.transpose(np.array(dfs[str(i)])))\n",
        "    carac=[] \n",
        "    carac.append(std(ldfs))\n",
        "    carac.append(mean(ldfs))\n",
        "    carac.append(counth(ldfs))\n",
        "    carac.append(countlow(ldfs))\n",
        "    carac.append(countinter(ldfs))\n",
        "    TH=THDIA(ldfs)\n",
        "    carac.append(TH[0])\n",
        "    carac.append(TH[1])\n",
        "    carac.append(TH[2])\n",
        "    x.append(carac)\n",
        "  return x\n",
        "RN=preproceso(readerN)\n",
        "print(\"Los datos extraidos de la primera columna son:\")\n",
        "print(RN[0])\n",
        "print(\"El total de vectores normales son:\",len(RN))\n",
        "print(\"El total de caracteristicas son:\",len(RN[0]))"
      ],
      "metadata": {
        "id": "ZfHulSXnj61_",
        "colab": {
          "base_uri": "https://localhost:8080/"
        },
        "outputId": "4dc12914-6310-43af-e72c-635400b790c4"
      },
      "execution_count": 7,
      "outputs": [
        {
          "output_type": "stream",
          "name": "stdout",
          "text": [
            "Los datos extraidos de la primera columna son:\n",
            "[0.7073255822066349, 4.909283461214134e-05, 0, 33, 500, 1.0818127758425846, 1.0675007242626917, 1.1018815593218223]\n",
            "El total de vectores normales son: 20000\n",
            "El total de caracteristicas son: 8\n"
          ]
        }
      ]
    },
    {
      "cell_type": "markdown",
      "source": [
        "Armamos una base de datos de las carcateristicas con las sanas y las dañadas con 0 para dañada y 1 para sana:"
      ],
      "metadata": {
        "id": "jPoh2iY9m_ml"
      }
    },
    {
      "cell_type": "code",
      "source": [
        "def data(dataS,dataN):\n",
        "  xS=preproceso(dataS)\n",
        "  xN=preproceso(dataN)\n",
        "  xData=[]\n",
        "  yData=[]\n",
        "  \n",
        "  for i in range (len(xS)):\n",
        "    xData.append(xS[i])\n",
        "    xData.append(xN[i])\n",
        "    yData.append(1)\n",
        "    yData.append(0)\n",
        "  \n",
        "  return xData, yData\n",
        "xtest,ytest=data(readers,readerN)"
      ],
      "metadata": {
        "id": "kr9cmZA9nYPx"
      },
      "execution_count": 8,
      "outputs": []
    },
    {
      "cell_type": "markdown",
      "source": [
        "Miramos la longitud de los vectores entregados y cuantas caracteristicas tiene cada uno"
      ],
      "metadata": {
        "id": "dwxCE8KVn5VM"
      }
    },
    {
      "cell_type": "code",
      "source": [
        "print(\"xtest tiene \",len(xtest),\"datos\")\n",
        "print(\"ytest tiene \",len(ytest),\"datos\")\n",
        "print(\"Los primeros dos vectores de xtest son:\")\n",
        "print(xtest[0],xtest[1])\n",
        "print(\"Los de ytest:\")\n",
        "print(ytest[0],ytest[1])\n"
      ],
      "metadata": {
        "colab": {
          "base_uri": "https://localhost:8080/"
        },
        "id": "AEvS621voA5r",
        "outputId": "fdedea49-a8c8-4070-ba94-c26a7144c6eb"
      },
      "execution_count": 9,
      "outputs": [
        {
          "output_type": "stream",
          "name": "stdout",
          "text": [
            "xtest tiene  20000 datos\n",
            "ytest tiene  20000 datos\n",
            "Los primeros dos vectores de xtest son:\n",
            "[0.5901470904089854, 0.009662840927910967, 0, 45, 488, 6.54787757521943, 1.069849543936547, 34.187524645748674] [0.7073255822066349, 4.909283461214134e-05, 0, 33, 500, 1.0818127758425846, 1.0675007242626917, 1.1018815593218223]\n",
            "Los de ytest:\n",
            "1 0\n"
          ]
        }
      ]
    }
  ],
  "metadata": {
    "colab": {
      "provenance": []
    },
    "kernelspec": {
      "display_name": "Python 3",
      "name": "python3"
    },
    "language_info": {
      "name": "python"
    }
  },
  "nbformat": 4,
  "nbformat_minor": 0
}